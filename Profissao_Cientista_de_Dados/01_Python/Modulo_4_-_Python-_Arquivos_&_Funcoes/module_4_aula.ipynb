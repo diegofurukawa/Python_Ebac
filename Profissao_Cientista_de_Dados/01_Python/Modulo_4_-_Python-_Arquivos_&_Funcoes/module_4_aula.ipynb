{
  "nbformat": 4,
  "nbformat_minor": 0,
  "metadata": {
    "colab": {
      "name": "module_4_class.ipynb",
      "provenance": [],
      "collapsed_sections": [],
      "toc_visible": true
    },
    "kernelspec": {
      "name": "python3",
      "display_name": "Python 3"
    }
  },
  "cells": [
    {
      "cell_type": "markdown",
      "metadata": {
        "id": "KJqp9AANOCtf"
      },
      "source": [
        "<img src=\"https://raw.githubusercontent.com/andre-marcos-perez/ebac-course-utils/main/media/logo/newebac_logo_black_half.png\" alt=\"ebac-logo\">\n",
        "\n",
        "---\n",
        "\n",
        "# **Módulo** | Python: Arquivos & Funções\n",
        "Caderno de **Aula**<br> \n",
        "Professor [André Perez](https://www.linkedin.com/in/andremarcosperez/)\n",
        "\n",
        "---"
      ]
    },
    {
      "cell_type": "markdown",
      "metadata": {
        "id": "d9jDtUbDOE1-"
      },
      "source": [
        "# **Tópicos**\n",
        "\n",
        "<ol type=\"1\">\n",
        "  <li>Leitura;</li>\n",
        "  <li>Escrita;</li>\n",
        "  <li>Funções;</li>\n",
        "  <li>Escopo.</li>\n",
        "</ol>"
      ]
    },
    {
      "cell_type": "markdown",
      "metadata": {
        "id": "SmoHgt-lwkpD"
      },
      "source": [
        "---"
      ]
    },
    {
      "cell_type": "markdown",
      "metadata": {
        "id": "GABI6OW8OfQ2"
      },
      "source": [
        "# **Aulas**"
      ]
    },
    {
      "cell_type": "markdown",
      "metadata": {
        "id": "muD1vxozykSC"
      },
      "source": [
        "## 1\\. Leitura"
      ]
    },
    {
      "cell_type": "markdown",
      "metadata": {
        "id": "5a3_syBIP6yO"
      },
      "source": [
        "### **1.1. Configuração inicial** "
      ]
    },
    {
      "cell_type": "markdown",
      "metadata": {
        "id": "YZixnYDiUvJy"
      },
      "source": [
        "Vamos utilizar uma função do **Google Colab** para criar arquivos para esse módulo. **Nota**: esse código **não** é do Python e sim da ferramenta."
      ]
    },
    {
      "cell_type": "markdown",
      "metadata": {
        "id": "7yJy2iraWZbC"
      },
      "source": [
        "**Arquivo CSV:** banco.csv"
      ]
    },
    {
      "cell_type": "code",
      "metadata": {
        "id": "vr4DaExbiyCr"
      },
      "source": [
        "%%writefile banco.csv\n",
        "age,job,marital,education,default,balance,housing,loan\n",
        "30,unemployed,married,primary,no,1787,no,no\n",
        "33,services,married,secondary,no,4789,yes,yes\n",
        "35,management,single,tertiary,no,1350,yes,no\n",
        "30,management,married,tertiary,no,1476,yes,yes\n",
        "59,blue-collar,married,secondary,no,0,yes,no\n",
        "35,management,single,tertiary,no,747,no,no\n",
        "36,self-employed,married,tertiary,no,307,yes,no\n",
        "39,technician,married,secondary,no,147,yes,no\n",
        "41,entrepreneur,married,tertiary,no,221,yes,no\n",
        "43,services,married,primary,no,-88,yes,yes"
      ],
      "execution_count": null,
      "outputs": []
    },
    {
      "cell_type": "markdown",
      "metadata": {
        "id": "E6D5rjlESJ1A"
      },
      "source": [
        "### **1.2. with / open** "
      ]
    },
    {
      "cell_type": "markdown",
      "metadata": {
        "id": "2SX6T5EXkMRP"
      },
      "source": [
        "Comando para ler arquivos.\n",
        "\n",
        "```python\n",
        "with open(file='<caminho do arquivo>', mode='<modo de leitura>', encoding='<decodificador>') as <apelido>:\n",
        "  bloco de código\n",
        "```"
      ]
    },
    {
      "cell_type": "markdown",
      "metadata": {
        "id": "PugpetF_kWOP"
      },
      "source": [
        "Os modos de leitura são:\n",
        "\n",
        "*   **r**: Abrir o arquivo para leitura (padrão).\n",
        "\n"
      ]
    },
    {
      "cell_type": "markdown",
      "metadata": {
        "id": "wNkFG1qKSU9M"
      },
      "source": [
        "### **1.3. read** "
      ]
    },
    {
      "cell_type": "markdown",
      "metadata": {
        "id": "wzKYdbTUmCkr"
      },
      "source": [
        "Comando para ler todo o conteúdo de um arquivo."
      ]
    },
    {
      "cell_type": "code",
      "metadata": {
        "id": "WpJWcVcEjz4s"
      },
      "source": [
        "conteudo = None\n",
        "\n",
        "with open(file='./banco.csv', mode='r', encoding='utf8') as arquivo:\n",
        "  conteudo = arquivo.read()\n",
        "\n",
        "print(conteudo)"
      ],
      "execution_count": null,
      "outputs": []
    },
    {
      "cell_type": "markdown",
      "metadata": {
        "id": "hV8sOC7uSQsy"
      },
      "source": [
        "### **1.4. readline** "
      ]
    },
    {
      "cell_type": "markdown",
      "metadata": {
        "id": "t4crMe1PnaxO"
      },
      "source": [
        "Comando para ler o conteúdo de um arquivo uma linha por vez."
      ]
    },
    {
      "cell_type": "code",
      "metadata": {
        "id": "KJEJA17YnUC6"
      },
      "source": [
        "conteudo = []\n",
        "\n",
        "with open(file='./banco.csv', mode='r', encoding='utf8') as arquivo:\n",
        "  linha = arquivo.readline() # lê a primeira linha\n",
        "  while linha:\n",
        "    conteudo.append(linha)\n",
        "    linha = arquivo.readline() # lê uma nova linha, se a linha não existir, salva o valor None\n",
        "\n",
        "print(conteudo)"
      ],
      "execution_count": null,
      "outputs": []
    },
    {
      "cell_type": "code",
      "metadata": {
        "id": "qB3FMTB_nwZx"
      },
      "source": [
        "for linha in conteudo:\n",
        "  print(linha)"
      ],
      "execution_count": null,
      "outputs": []
    },
    {
      "cell_type": "markdown",
      "metadata": {
        "id": "3fUEwRtVnx-7"
      },
      "source": [
        "**Exemplo**: Extraindo os valores da primeira coluna (idade)."
      ]
    },
    {
      "cell_type": "code",
      "metadata": {
        "id": "SpHHPRUOn8pZ"
      },
      "source": [
        "idades = []\n",
        "\n",
        "with open(file='./banco.csv', mode='r', encoding='utf8') as arquivo:\n",
        "  linha = arquivo.readline() # lê o cabeçalho\n",
        "  linha = arquivo.readline() # lê a primeira linha\n",
        "  while linha:\n",
        "    linha_separada = linha.split(sep=',') # quebra a string nas virgulas e salva os resultados em uma lista\n",
        "    idade = linha_separada[0] # seleciona o primeiro elemento da lista\n",
        "    idade = int(idade) # converte o valor de string para integer (inteiro)\n",
        "    idades.append(idade) # salva o valor na lista de idades\n",
        "    linha = arquivo.readline() # lê uma nova linha, se a linha não existir, salva o valor None\n",
        "\n",
        "print(idades)"
      ],
      "execution_count": null,
      "outputs": []
    },
    {
      "cell_type": "markdown",
      "metadata": {
        "id": "4rRCvy_UURrM"
      },
      "source": [
        "## 2\\. Escrita"
      ]
    },
    {
      "cell_type": "markdown",
      "metadata": {
        "id": "3FTT-S0apCyF"
      },
      "source": [
        "### **2.1. with / open** "
      ]
    },
    {
      "cell_type": "markdown",
      "metadata": {
        "id": "qJ4xZ0DgpCyd"
      },
      "source": [
        "Comando para ler/escrever arquivos.\n",
        "\n",
        "```python\n",
        "with open(file='<caminho do arquivo do arquivo>', mode='<modo de leitura/escrita>', encoding='<decodificador>') as <apelido>:\n",
        "  bloco de código\n",
        "```"
      ]
    },
    {
      "cell_type": "markdown",
      "metadata": {
        "id": "9qXlv5OCpCye"
      },
      "source": [
        "Os modos de leitura são:\n",
        "\n",
        "*   **r**: Abrir o arquivo para leitura (padrão);\n",
        "*   **w**: Abrir o arquivo para escrita (sobreescreve o arquivo original).\n",
        "*   **a**: Abrir o arquivo para acrescentar (não sobreescreve o arquivo original)\n",
        "\n"
      ]
    },
    {
      "cell_type": "markdown",
      "metadata": {
        "id": "Y1W9Hv8fURrZ"
      },
      "source": [
        "### **2.2. write** "
      ]
    },
    {
      "cell_type": "markdown",
      "metadata": {
        "id": "blLLUg9IrRed"
      },
      "source": [
        "Comando para escrever em um arquivo, se o arquivo não existir, ele será criado."
      ]
    },
    {
      "cell_type": "markdown",
      "metadata": {
        "id": "4RT69P1CrZAo"
      },
      "source": [
        "- Modo de escrita (w)."
      ]
    },
    {
      "cell_type": "code",
      "metadata": {
        "id": "aqPMQ27bpfGL"
      },
      "source": [
        "with open(file='idades.csv', mode='w', encoding='utf8') as fp:\n",
        "  linha = 'idade' + '\\n'\n",
        "  fp.write(linha)\n",
        "  for idade in idades:\n",
        "    linha = str(idade) + '\\n'\n",
        "    fp.write(linha)"
      ],
      "execution_count": null,
      "outputs": []
    },
    {
      "cell_type": "markdown",
      "metadata": {
        "id": "YlDZzK4grar5"
      },
      "source": [
        " - Modo de acréscimo (a)."
      ]
    },
    {
      "cell_type": "code",
      "metadata": {
        "id": "s3fyBEszq6GL"
      },
      "source": [
        "with open(file='idades.csv', mode='a', encoding='utf8') as fp:\n",
        "  for idade in idades:\n",
        "    linha = str(idade + 100) + '\\n'\n",
        "    fp.write(linha)"
      ],
      "execution_count": null,
      "outputs": []
    },
    {
      "cell_type": "markdown",
      "metadata": {
        "id": "BYzPVfCyrn7U"
      },
      "source": [
        "**Exemplo**: Copiando um arquivo com uma extensão diferente."
      ]
    },
    {
      "cell_type": "code",
      "metadata": {
        "id": "fJ5OMzbar22Q"
      },
      "source": [
        "%%writefile banco-texto.txt\n",
        "age,job,marital,education,default,balance,housing,loan\n",
        "30,unemployed,married,primary,no,1787,no,no\n",
        "33,services,married,secondary,no,4789,yes,yes\n",
        "35,management,single,tertiary,no,1350,yes,no\n",
        "30,management,married,tertiary,no,1476,yes,yes\n",
        "59,blue-collar,married,secondary,no,0,yes,no\n",
        "35,management,single,tertiary,no,747,no,no\n",
        "36,self-employed,married,tertiary,no,307,yes,no\n",
        "39,technician,married,secondary,no,147,yes,no\n",
        "41,entrepreneur,married,tertiary,no,221,yes,no\n",
        "43,services,married,primary,no,-88,yes,yes"
      ],
      "execution_count": null,
      "outputs": []
    },
    {
      "cell_type": "code",
      "metadata": {
        "id": "mB-oJ_9FruGk"
      },
      "source": [
        "with open(file='./banco-texto.txt', mode='r', encoding='utf8') as leitura:\n",
        "  with open(file='./banco-csv.csv', mode='w', encoding='utf8') as escrita:\n",
        "    linha = leitura.readline()\n",
        "    while linha:\n",
        "      escrita.write(linha)\n",
        "      linha = leitura.readline()"
      ],
      "execution_count": null,
      "outputs": []
    },
    {
      "cell_type": "markdown",
      "metadata": {
        "id": "ELgoMRAAUSjv"
      },
      "source": [
        "## 3\\. Funções"
      ]
    },
    {
      "cell_type": "markdown",
      "metadata": {
        "id": "CuLkQY76USjw"
      },
      "source": [
        "### **3.1. Motivação** "
      ]
    },
    {
      "cell_type": "markdown",
      "metadata": {
        "id": "Fg8Ib6XA3gK_"
      },
      "source": [
        "Você trabalha na bolsa de valores e precisa simular o retorno de um investimento para diversos cenários:"
      ]
    },
    {
      "cell_type": "code",
      "metadata": {
        "id": "ivOfQr2f3yj7"
      },
      "source": [
        "valor_inicial, taxa_juros_anual, anos = 1000.00, 0.05, 10\n",
        "\n",
        "valor_final = valor_inicial\n",
        "for ano in range(1, anos+1):\n",
        "  valor_final = valor_final * (1 + taxa_juros_anual)\n",
        "valor_final = round(valor_final, 2)\n",
        "print(f'Para um valor inicial de R$ {valor_inicial} e uma taxa de juros anual de {taxa_juros_anual}, em {anos} anos você terá R$ {valor_final}') \n",
        "\n",
        "valor_inicial, taxa_juros_anual, anos = 1020.00, 0.03, 10\n",
        "\n",
        "valor_final = valor_inicial\n",
        "for ano in range(1, anos+1):\n",
        "  valor_final = valor_final * (1 + taxa_juros_anual)\n",
        "valor_final = round(valor_final, 2)\n",
        "print(f'Para um valor inicial de R$ {valor_inicial} e uma taxa de juros anual de {taxa_juros_anual}, em {anos} anos você terá R$ {valor_final}') "
      ],
      "execution_count": null,
      "outputs": []
    },
    {
      "cell_type": "markdown",
      "metadata": {
        "id": "VXDHNVnM4PYO"
      },
      "source": [
        "Como podemos fazer para reaproveitar o código e evitar repetições?"
      ]
    },
    {
      "cell_type": "markdown",
      "metadata": {
        "id": "JENLdmHkUSjx"
      },
      "source": [
        "### **3.2. Definição** "
      ]
    },
    {
      "cell_type": "markdown",
      "metadata": {
        "id": "niLcDcONyuQ9"
      },
      "source": [
        "Um bloco de código que só executado quando chamado."
      ]
    },
    {
      "cell_type": "markdown",
      "metadata": {
        "id": "Qci6vQqss-Hb"
      },
      "source": [
        "```python\n",
        "def <nome>(<param 1>, <param 2>, ...):\n",
        "  bloco de código\n",
        "  return <valor de retorno>\n",
        "```\n",
        "\n",
        "```python\n",
        "var = <nome da funcao>(<param 1>, <param 2>, ...)\n",
        "```"
      ]
    },
    {
      "cell_type": "code",
      "metadata": {
        "id": "HOGLdF3dv-8D"
      },
      "source": [
        "def imprime(mensagem: str):\n",
        "  print(mensagem)"
      ],
      "execution_count": null,
      "outputs": []
    },
    {
      "cell_type": "code",
      "metadata": {
        "id": "TzaUvMeKwJ63"
      },
      "source": [
        "texto = 'Fala pessoal, meu nome é André Perez!'"
      ],
      "execution_count": null,
      "outputs": []
    },
    {
      "cell_type": "code",
      "metadata": {
        "id": "5Csj9AY3wOMX"
      },
      "source": [
        "imprime(mensagem='Fala pessoal, meu nome é André Perez!')"
      ],
      "execution_count": null,
      "outputs": []
    },
    {
      "cell_type": "markdown",
      "metadata": {
        "id": "qcHSzY6kUSjy"
      },
      "source": [
        "### **3.3. Retorno** "
      ]
    },
    {
      "cell_type": "markdown",
      "metadata": {
        "id": "Vtp-kxhAz2A7"
      },
      "source": [
        "Toda função retorna pelo menos um valor, se não específicado, retorna o valor nulo."
      ]
    },
    {
      "cell_type": "code",
      "metadata": {
        "id": "yjZXbgGLz7LF"
      },
      "source": [
        "def maiusculo(texto: str) -> str:\n",
        "  text_maiusculo = texto.upper()\n",
        "  return text_maiusculo"
      ],
      "execution_count": null,
      "outputs": []
    },
    {
      "cell_type": "code",
      "metadata": {
        "id": "sfAJqKF80KcU"
      },
      "source": [
        "nome = 'André Perez'\n",
        "print(nome)\n",
        "\n",
        "nome_maiusculo = maiusculo(texto=nome)\n",
        "print(nome_maiusculo)"
      ],
      "execution_count": null,
      "outputs": []
    },
    {
      "cell_type": "code",
      "metadata": {
        "id": "6oGDzweQtaJ1"
      },
      "source": [
        "def extrair_usuario_email_provedor(email: str) -> (str, str):\n",
        "  email_separado = email.split(sep='@')\n",
        "  usuario = email_separado[0]\n",
        "  provedor = email_separado[1]\n",
        "  return usuario, provedor"
      ],
      "execution_count": null,
      "outputs": []
    },
    {
      "cell_type": "code",
      "metadata": {
        "id": "nK9i6Eqttiwc"
      },
      "source": [
        "email = 'andre.perez@gmail.com'\n",
        "usuario, provedor = extrair_usuario_email_provedor(email=email)\n",
        "print(usuario)\n",
        "print(provedor)"
      ],
      "execution_count": null,
      "outputs": []
    },
    {
      "cell_type": "markdown",
      "metadata": {
        "id": "pBOPhB4ey4G6"
      },
      "source": [
        "### **3.3. Parâmetros** "
      ]
    },
    {
      "cell_type": "markdown",
      "metadata": {
        "id": "He3xbNvQD_lh"
      },
      "source": [
        "Parâmetros são os valores que a passamos na chamada da função."
      ]
    },
    {
      "cell_type": "markdown",
      "metadata": {
        "id": "ncVF5va-QXa3"
      },
      "source": [
        " - Função sem parâmetro:"
      ]
    },
    {
      "cell_type": "code",
      "metadata": {
        "id": "1QWOVjF5Qa7P"
      },
      "source": [
        "def pi() -> float:\n",
        "  return 3.14159265359"
      ],
      "execution_count": null,
      "outputs": []
    },
    {
      "cell_type": "code",
      "metadata": {
        "id": "j4rf5u9vQtgW"
      },
      "source": [
        "pi = pi()\n",
        "print(pi)"
      ],
      "execution_count": null,
      "outputs": []
    },
    {
      "cell_type": "code",
      "metadata": {
        "id": "E0HdlKYHQw55"
      },
      "source": [
        "def imprime_pi() -> None:\n",
        "  print(3.14159265359)\n",
        "  return None"
      ],
      "execution_count": null,
      "outputs": []
    },
    {
      "cell_type": "code",
      "metadata": {
        "id": "jHgpZqHnQ4JW"
      },
      "source": [
        "imprime_pi()"
      ],
      "execution_count": null,
      "outputs": []
    },
    {
      "cell_type": "markdown",
      "metadata": {
        "id": "b9zFMVn3QRac"
      },
      "source": [
        " - Função com parâmetro:"
      ]
    },
    {
      "cell_type": "code",
      "metadata": {
        "id": "U0fc5LA_EFTW"
      },
      "source": [
        "def escreve_arquivo_csv(nome: str, cabecalho: str, conteudos: list) -> bool:\n",
        "\n",
        "  try: \n",
        "\n",
        "    with open(file=nome, mode='w', encoding='utf8') as fp:\n",
        "      linha = cabecalho + '\\n'\n",
        "      fp.write(linha)\n",
        "      for conteudo in conteudos:\n",
        "        linha = str(conteudo) + '\\n'\n",
        "        fp.write(linha)\n",
        "\n",
        "  except Exception as exc:\n",
        "    \n",
        "    print(exc)\n",
        "    return False\n",
        "\n",
        "  return True"
      ],
      "execution_count": null,
      "outputs": []
    },
    {
      "cell_type": "code",
      "metadata": {
        "id": "MRyFsh_nQFJh"
      },
      "source": [
        "nome = 'idades-funcao-erro.csv'\n",
        "cabecalho = 'idade'\n",
        "# conteudos = [30, 33, 35, 30, 59, 35, 36, 39, 41, 43]\n",
        "conteudos = 10\n",
        "\n",
        "escreveu_com_sucesso = escreve_arquivo_csv(nome=nome, cabecalho=cabecalho, conteudos=conteudos)\n",
        "print(escreveu_com_sucesso)"
      ],
      "execution_count": null,
      "outputs": []
    },
    {
      "cell_type": "markdown",
      "metadata": {
        "id": "Nq0WCx8HUSjz"
      },
      "source": [
        "### **3.4. Revisitando a motivação** "
      ]
    },
    {
      "cell_type": "code",
      "metadata": {
        "id": "B9fVGad25GHm"
      },
      "source": [
        "def juros_compostos_anual(valor_inicial: float, taxa_juros_anual: float, anos: int) -> float:\n",
        "  valor_final = valor_inicial\n",
        "  for ano in range(1, anos+1):\n",
        "    valor_final = valor_final * (1 + taxa_juros_anual)\n",
        "  valor_final = round(valor_final, 2)\n",
        "  print(f'Para um valor inicial de R$ {valor_inicial} e uma taxa de juros anual de {taxa_juros_anual}, em {anos} anos você terá R$ {valor_final}') \n",
        "  return valor_final\n",
        "\n",
        "valor_inicial, taxa_juros_anual, anos = 1000.00, 0.05, 10\n",
        "valor_final = juros_compostos_anual(valor_inicial=valor_inicial, taxa_juros_anual=taxa_juros_anual, anos=anos)\n",
        "\n",
        "valor_inicial, taxa_juros_anual, anos = 1020.00, 0.03, 10\n",
        "valor_final = juros_compostos_anual(valor_inicial=valor_inicial, taxa_juros_anual=taxa_juros_anual, anos=anos) "
      ],
      "execution_count": null,
      "outputs": []
    },
    {
      "cell_type": "markdown",
      "metadata": {
        "id": "f20ThY5WXmns"
      },
      "source": [
        "## 4\\. Escopo"
      ]
    },
    {
      "cell_type": "markdown",
      "metadata": {
        "id": "mU0sJeoCXmoK"
      },
      "source": [
        "### **4.1. Definição** "
      ]
    },
    {
      "cell_type": "markdown",
      "metadata": {
        "id": "oKh6lMEouTn0"
      },
      "source": [
        "Define o ciclo de vida de uma variável."
      ]
    },
    {
      "cell_type": "markdown",
      "metadata": {
        "id": "ozbwsD4Lu7p6"
      },
      "source": [
        " - Escopo de função."
      ]
    },
    {
      "cell_type": "code",
      "metadata": {
        "id": "ePdJM9qQuWrF"
      },
      "source": [
        "def soma_lista(numeros: list) -> int:\n",
        "  s = 0\n",
        "  for numero in numeros:\n",
        "    s = s + numero\n",
        "  return s"
      ],
      "execution_count": null,
      "outputs": []
    },
    {
      "cell_type": "code",
      "metadata": {
        "id": "3tILascnunHK"
      },
      "source": [
        "soma = soma_lista(numeros=[2] * 20)\n",
        "print(soma)"
      ],
      "execution_count": null,
      "outputs": []
    },
    {
      "cell_type": "code",
      "metadata": {
        "id": "eGUN-4_ju0a6"
      },
      "source": [
        "print(s)"
      ],
      "execution_count": null,
      "outputs": []
    },
    {
      "cell_type": "markdown",
      "metadata": {
        "id": "X1lEDZMpu-Zg"
      },
      "source": [
        " - Escopo de estrutura condicional / repetição."
      ]
    },
    {
      "cell_type": "code",
      "metadata": {
        "id": "hQQ85zrYvP-w"
      },
      "source": [
        "if True:\n",
        "  x = 100\n",
        "else:\n",
        "  w = 50\n",
        "\n",
        "print(x)"
      ],
      "execution_count": null,
      "outputs": []
    }
  ]
}