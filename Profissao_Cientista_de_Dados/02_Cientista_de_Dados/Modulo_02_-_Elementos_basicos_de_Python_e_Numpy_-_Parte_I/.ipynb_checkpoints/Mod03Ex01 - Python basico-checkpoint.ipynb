{
 "cells": [
  {
   "cell_type": "markdown",
   "metadata": {},
   "source": [
    "### 01 - Teste de gravidez\n",
    "Escreva uma célula com controle de fluxos que tem como premissa a existência das seguintes variáveis:\n",
    "\n",
    "- ```sexo``` como ```str``` indicando os valores '**M**' para masculino e '**F**' para feminino  \n",
    "- ```beta_hcg``` que indica a quantidade do beta-HCG no sangue em mUI/mL.\n",
    "\n",
    "A sua tarefa é escrever um código que imprima como resultado \"indivíduo do sexo masculino\" quando sexo = 'M', caso sexo = 'F', se o valor de beta-HCG for maior que 5, retorne \"Positivo\" indicando que a paciente está grávida, e retorne \"Negativo\" caso contrário.\n",
    "\n",
    "Não mexa nos valores da variável ```sexo``` nem em ```beta_hcg```, e escreva um código que funcione para quaisquer valores possíveis de ambos: ```sexo``` = '**M**' ou '**F**' e ```beta_hcg``` assumindo valores inteiros positivos."
   ]
  },
  {
   "cell_type": "code",
   "execution_count": null,
   "metadata": {},
   "outputs": [],
   "source": [
    "import random\n",
    "\n",
    "#=============================================================================\n",
    "#  \n",
    "#=============================================================================\n",
    "sexo = ['F', 'M']\n",
    "sexo = random.choice(sexo)\n",
    "\n",
    "#=============================================================================\n",
    "#  \n",
    "#=============================================================================\n",
    "fator_beta_hcg = 5\n",
    "beta_hcg = int(input('Qual a quantidade do beta-HCG no sangue em mUI/mL? '))\n",
    "\n",
    "#====================================\n",
    "# seu código vem abaixo desta linha\n",
    "#====================================\n",
    "if sexo == 'M':\n",
    "    sexo = 'Masculino'\n",
    "elif sexo == 'F':\n",
    "    sexo = 'Feminino'\n",
    "else:\n",
    "    sexo = 'indefinido'\n",
    "    \n",
    "if beta_hcg > fator_beta_hcg:\n",
    "    print('Positivo e o sexo é ' + str(sexo))\n",
    "else:\n",
    "    print('Negativo!')"
   ]
  },
  {
   "cell_type": "markdown",
   "metadata": {},
   "source": [
    "### 02 - Renomeando variáveis\n",
    "\n",
    "Vamos ver adiante que uma forma de renomear variáveis de um conjunto de dados é através de dicionários - o dicionário deve conter como chave o nome original, associando a cada chave um único valor (tipo *str*) que contenha o nome novo.\n",
    "\n",
    "A sua tarefa é escrever um dicionário que possa ser utilizado para traduzir as variáveis ```name``` (nome), ```age``` (idade) e ```income``` (renda). Ou seja, esse dicionário deve relacionar as chaves *name, age* e *income* às suas respectivas traduções."
   ]
  },
  {
   "cell_type": "code",
   "execution_count": null,
   "metadata": {},
   "outputs": [],
   "source": [
    "dic_renomeacao = {'name': 'nome', 'age': 'idade', 'income': 'renda'}\n",
    "dic_renomeacao"
   ]
  },
  {
   "cell_type": "markdown",
   "metadata": {},
   "source": [
    "### 03 - É divisível?\n",
    "A sua tarefa é escrever um código que indique se um número ```N``` é divisível por um número P. Escreva um programa que faça essa verificação para quaisquer combinações de ```N``` e ```M``` e devolva uma mensagem indicativa no output."
   ]
  },
  {
   "cell_type": "code",
   "execution_count": null,
   "metadata": {},
   "outputs": [],
   "source": [
    "N = 42\n",
    "M = 8\n",
    "\n",
    "#Seu código\n",
    "divisor = int(input('Por quanto deseja dividir? '))\n",
    "\n",
    "n = N % divisor\n",
    "#print(n)\n",
    "\n",
    "m = M % divisor\n",
    "#print(m)\n",
    "\n",
    "\n",
    "if n == 0:\n",
    "    print(str(N) + ' É divisível por ' + str(divisor) + '!')\n",
    "else:\n",
    "    print(str(N) + ' Não é divisível por ' + str(divisor) + '!')\n",
    "\n",
    "if m == 0:\n",
    "    print(str(M) + ' É divisível por ' + str(divisor) + '!')\n",
    "else:\n",
    "    print(str(M) + ' Não é divisível por ' + str(divisor) + '!')\n",
    "\n",
    "\n",
    "\n"
   ]
  },
  {
   "cell_type": "markdown",
   "metadata": {},
   "source": [
    "### 04 - Números primos\n",
    "> Um número **N** é primo se e somente se é divisível por 1, -1, por **N** e por -**N**.  \n",
    "\n",
    "Escreva um script que verifica se ```N``` é um número primo, verificando se ```N``` é divisível por todos os números de ```1``` a ```N-1```. Você vai precisar usar alguma ferramenta de *loop* que você aprendeu para isto. No final, devolva uma mensagem no output indicando se o número é primo ou não."
   ]
  },
  {
   "cell_type": "code",
   "execution_count": null,
   "metadata": {},
   "outputs": [],
   "source": [
    "N = 47\n",
    "\n",
    "# seu código abaixo\n",
    "# numeros primos\n",
    "number = int(input('Numero: '))\n",
    "ePrimo = 0\n",
    "\n",
    "for i in range(1, (number + 1)):        \n",
    "  if number % i == 0:\n",
    "    ePrimo += 1\n",
    "    \n",
    "if ePrimo  == 2:\n",
    "  print('primo')\n",
    "else:\n",
    "  print('nao primo')"
   ]
  },
  {
   "cell_type": "markdown",
   "metadata": {},
   "source": [
    "### 05 - Desafio\n",
    "O algorítmo do exercício anterior não é o mais eficiente. O que você pode fazer para deixá-lo mais eficiente? Ou seja, executar menos comparações, portanto consumir menos tempo.\n",
    "1. Será que precisamos correr o loop até o final sempre?\n",
    "2. Será que precisamos mesmo verificar **todos** os números?\n",
    "3. Será que precisamos ir até N-1?\n",
    "\n",
    "Essas perguntas levam ao tipo de pensamento voltado a deixar um algoritmo mais eficiente. Veja se você consegue melhorar o seu."
   ]
  },
  {
   "cell_type": "code",
   "execution_count": null,
   "metadata": {},
   "outputs": [],
   "source": [
    "N = 98\n",
    "\n",
    "# seu código aqui\n",
    "# numeros primos\n",
    "number = int(input('Digite um numero inteiro! '))\n",
    "ePrimo = 0\n",
    "\n",
    "for i in range(1, (number + 1)):        \n",
    "  if number % i == 0:\n",
    "    ePrimo += 1\n",
    "    \n",
    "if ePrimo  == 2:\n",
    "  print('primo')\n",
    "else:\n",
    "  print('nao primo')\n"
   ]
  },
  {
   "cell_type": "markdown",
   "metadata": {},
   "source": [
    "### 06 - Peso ideal 1\n",
    "O IMC (índice de massa corpórea) é um indicador de saúde mais bem aceito que o peso. Ele é calculado como:\n",
    "\n",
    "$$ IMC = \\dfrac{peso}{altura^2}$$\n",
    "\n",
    "Segundo a OMS, valores *normais* são entre 18.5 e 24.9.\n",
    "\n",
    "Sua tarefa é encontrar o ponto médio dessa faixa."
   ]
  },
  {
   "cell_type": "code",
   "execution_count": null,
   "metadata": {},
   "outputs": [],
   "source": [
    "peso = int(input('Qual seu peso '))\n",
    "\n",
    "imc_ideal = (18.5 + 24.9) / 2\n",
    "\n",
    "print('O IMC ideal é ' + str(imc_ideal))"
   ]
  },
  {
   "cell_type": "markdown",
   "metadata": {},
   "source": [
    "### 07 - Peso ideal 2\n",
    "Recebendo um valor de altura, encontre o peso '*ideal*' dessa pessoa, que fornece o IMC encontrado acima"
   ]
  },
  {
   "cell_type": "code",
   "execution_count": null,
   "metadata": {},
   "outputs": [],
   "source": [
    "altura = 1.80\n",
    "\n",
    "# Seu código\n",
    "peso_ideal =  imc_ideal * (altura**2)\n",
    "\n",
    "print('O Peso ideal para sua altura é ' + str(peso_ideal))"
   ]
  },
  {
   "cell_type": "markdown",
   "metadata": {},
   "source": [
    "### 08 - Peso ideal 3\n",
    "Dada uma lista contendo as alturas de pacientes, crie uma nova lista que contenha o peso '*ideal*' (que fornece o IMC calculado em **Peso ideal 1**) desses pacientes."
   ]
  },
  {
   "cell_type": "code",
   "execution_count": null,
   "metadata": {},
   "outputs": [],
   "source": [
    "lista_alturas = [1.95, 2.05, 1.70, 1.65]\n",
    "\n",
    "qtde = int(len(lista_alturas))\n",
    "#imc = imc_ideal\n",
    "i=0\n",
    "lista_peso_ideal = []\n",
    "\n",
    "# seu código\n",
    "while i <= qtde:\n",
    "    peso_ideal =  imc_ideal * (lista_alturas[i]**2)\n",
    "    print('passei aqui')\n",
    "    i + 1\n",
    "\n",
    "lista_peso_ideal"
   ]
  },
  {
   "cell_type": "markdown",
   "metadata": {},
   "source": [
    "### 09 - Peso ideal 4\n",
    "Dada uma lista de tuplas - cada elemento da lista é uma tupla contendo altura e peso de um paciente - crie uma nova lista com o IMC desses pacientes."
   ]
  },
  {
   "cell_type": "code",
   "execution_count": 42,
   "metadata": {},
   "outputs": [
    {
     "name": "stdout",
     "output_type": "stream",
     "text": [
      "3\n",
      "[]\n"
     ]
    },
    {
     "ename": "KeyboardInterrupt",
     "evalue": "",
     "output_type": "error",
     "traceback": [
      "\u001b[1;31m---------------------------------------------------------------------------\u001b[0m",
      "\u001b[1;31mKeyboardInterrupt\u001b[0m                         Traceback (most recent call last)",
      "Cell \u001b[1;32mIn[42], line 12\u001b[0m\n\u001b[0;32m     10\u001b[0m \u001b[38;5;66;03m# seu código\u001b[39;00m\n\u001b[0;32m     11\u001b[0m \u001b[38;5;28;01mwhile\u001b[39;00m i \u001b[38;5;241m<\u001b[39m\u001b[38;5;241m=\u001b[39m qtde:\n\u001b[1;32m---> 12\u001b[0m     lista \u001b[38;5;241m=\u001b[39m \u001b[38;5;28;43mlist\u001b[39;49m\u001b[43m(\u001b[49m\u001b[43maltura_peso\u001b[49m\u001b[43m[\u001b[49m\u001b[43mi\u001b[49m\u001b[43m]\u001b[49m\u001b[43m)\u001b[49m               \n\u001b[0;32m     13\u001b[0m     \u001b[38;5;66;03m#imc = float(lista[1]) / (float(lista[0])**2)        \u001b[39;00m\n\u001b[0;32m     14\u001b[0m     \u001b[38;5;66;03m#print('passei aqui e fiz o seguinte calculo ' + str(float(lista[1])) + ' / ' + str((float(lista[0])**2)))\u001b[39;00m\n\u001b[0;32m     15\u001b[0m     i \u001b[38;5;241m+\u001b[39m \u001b[38;5;241m1\u001b[39m\n",
      "\u001b[1;31mKeyboardInterrupt\u001b[0m: "
     ]
    }
   ],
   "source": [
    "altura_peso = [(1.80, 90), (1.65, 75), (1.91, 70)]\n",
    "#print(len(altura_peso))\n",
    "\n",
    "qtde = int(len(altura_peso))\n",
    "imc = []\n",
    "i=0\n",
    "print(qtde)\n",
    "print(imc)  \n",
    "\n",
    "# seu código\n",
    "while i <= 3:\n",
    "    #lista = list(altura_peso[i])               \n",
    "    #imc = float(lista[1]) / (float(lista[0])**2)        \n",
    "    #print('passei aqui e fiz o seguinte calculo ' + str(float(lista[1])) + ' / ' + str((float(lista[0])**2)))\n",
    "    print(i)\n",
    "    i + 1\n",
    "    \n",
    "print(i)     \n",
    "    \n"
   ]
  },
  {
   "cell_type": "markdown",
   "metadata": {},
   "source": [
    "### 10 - Peso ideal 5\n",
    "Dada uma lista de **listas** - cada elemento da lista é uma **lista** contendo altura e peso de um paciente, adicione mais um elemento à lista de cada paciente contendo o IMC do paciente. Verifique também se é 'baixo', 'normal' ou 'alto' segundo os padrões da OMS em que normal é entre 18.5 e 24.9.\n",
    "\n",
    "Reflexão: por que no problema anterior temos que criar uma nova lista, e não podemos adicionar os dados de cada indivíduo à tupla?"
   ]
  },
  {
   "cell_type": "code",
   "execution_count": null,
   "metadata": {},
   "outputs": [],
   "source": [
    "altura_peso = [[1.80, 90], [1.65, 75], [1.91, 70]]\n",
    "\n",
    "# seu código\n",
    "\n",
    "altura_peso"
   ]
  }
 ],
 "metadata": {
  "kernelspec": {
   "display_name": "Python 3 (ipykernel)",
   "language": "python",
   "name": "python3"
  },
  "language_info": {
   "codemirror_mode": {
    "name": "ipython",
    "version": 3
   },
   "file_extension": ".py",
   "mimetype": "text/x-python",
   "name": "python",
   "nbconvert_exporter": "python",
   "pygments_lexer": "ipython3",
   "version": "3.11.5"
  }
 },
 "nbformat": 4,
 "nbformat_minor": 4
}
