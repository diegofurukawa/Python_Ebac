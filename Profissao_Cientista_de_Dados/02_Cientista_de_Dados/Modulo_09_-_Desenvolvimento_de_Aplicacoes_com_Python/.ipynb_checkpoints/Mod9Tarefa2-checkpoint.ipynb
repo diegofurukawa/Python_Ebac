{
  "cells": [
    {
      "cell_type": "markdown",
      "metadata": {
        "id": "eYvCczy6lTt7"
      },
      "source": [
        "# Livro para consulta:\n",
        "- https://jakevdp.github.io/PythonDataScienceHandbook/03.08-aggregation-and-grouping.html\n",
        "- https://jakevdp.github.io/PythonDataScienceHandbook/03.09-pivot-tables.html\n",
        "    "
      ]
    },
    {
      "cell_type": "markdown",
      "metadata": {
        "id": "oeWprAfnlTt-"
      },
      "source": [
        "# 1. Importando bibliotecas <a name=\"import\"></a>\n",
        "\n",
        "<div style=\"text-align: right\"\n",
        "     \n",
        "[Voltar ao índice](#Contents)"
      ]
    },
    {
      "cell_type": "code",
      "execution_count": null,
      "metadata": {
        "ExecuteTime": {
          "end_time": "2021-06-06T21:12:37.298706Z",
          "start_time": "2021-06-06T21:12:36.656481Z"
        },
        "id": "y_9gYudilTt_"
      },
      "outputs": [],
      "source": [
        "import numpy as np\n",
        "import pandas as pd\n",
        "import seaborn as sns\n",
        "import matplotlib.pyplot as plt\n",
        "\n",
        "%matplotlib inline"
      ]
    },
    {
      "cell_type": "code",
      "execution_count": null,
      "metadata": {
        "id": "1yNG4iFTlTuA"
      },
      "outputs": [],
      "source": []
    },
    {
      "cell_type": "markdown",
      "metadata": {
        "id": "-cpxC-IBlTuA"
      },
      "source": [
        "# 2. Carregando o dataframe SINASC <a name=\"read\"></a>\n",
        "<div style=\"text-align: right\"\n",
        "     \n",
        "[Voltar ao índice](#Contents)"
      ]
    },
    {
      "cell_type": "code",
      "execution_count": null,
      "metadata": {
        "ExecuteTime": {
          "end_time": "2021-06-06T21:12:37.762376Z",
          "start_time": "2021-06-06T21:12:37.728383Z"
        },
        "scrolled": true,
        "id": "nQZn7u4DlTuB",
        "outputId": "74b44036-69d9-4139-b291-621d77ed331b"
      },
      "outputs": [
        {
          "data": {
            "text/html": [
              "<div>\n",
              "<style scoped>\n",
              "    .dataframe tbody tr th:only-of-type {\n",
              "        vertical-align: middle;\n",
              "    }\n",
              "\n",
              "    .dataframe tbody tr th {\n",
              "        vertical-align: top;\n",
              "    }\n",
              "\n",
              "    .dataframe thead th {\n",
              "        text-align: right;\n",
              "    }\n",
              "</style>\n",
              "<table border=\"1\" class=\"dataframe\">\n",
              "  <thead>\n",
              "    <tr style=\"text-align: right;\">\n",
              "      <th></th>\n",
              "      <th>ORIGEM</th>\n",
              "      <th>CODESTAB</th>\n",
              "      <th>CODMUNNASC</th>\n",
              "      <th>LOCNASC</th>\n",
              "      <th>IDADEMAE</th>\n",
              "      <th>ESTCIVMAE</th>\n",
              "      <th>ESCMAE</th>\n",
              "      <th>CODOCUPMAE</th>\n",
              "      <th>QTDFILVIVO</th>\n",
              "      <th>QTDFILMORT</th>\n",
              "      <th>...</th>\n",
              "      <th>KOTELCHUCK</th>\n",
              "      <th>CONTADOR</th>\n",
              "      <th>munResStatus</th>\n",
              "      <th>munResTipo</th>\n",
              "      <th>munResNome</th>\n",
              "      <th>munResUf</th>\n",
              "      <th>munResLat</th>\n",
              "      <th>munResLon</th>\n",
              "      <th>munResAlt</th>\n",
              "      <th>munResArea</th>\n",
              "    </tr>\n",
              "  </thead>\n",
              "  <tbody>\n",
              "    <tr>\n",
              "      <th>0</th>\n",
              "      <td>1</td>\n",
              "      <td>2679477.0</td>\n",
              "      <td>110001</td>\n",
              "      <td>1</td>\n",
              "      <td>19</td>\n",
              "      <td>5.0</td>\n",
              "      <td>8 a 11 anos</td>\n",
              "      <td>NaN</td>\n",
              "      <td>0.0</td>\n",
              "      <td>0.0</td>\n",
              "      <td>...</td>\n",
              "      <td>5</td>\n",
              "      <td>1</td>\n",
              "      <td>ATIVO</td>\n",
              "      <td>MUNIC</td>\n",
              "      <td>Alta Floresta D'Oeste</td>\n",
              "      <td>Rondônia</td>\n",
              "      <td>-11.93554</td>\n",
              "      <td>-61.99982</td>\n",
              "      <td>338.0</td>\n",
              "      <td>7067.025</td>\n",
              "    </tr>\n",
              "    <tr>\n",
              "      <th>1</th>\n",
              "      <td>1</td>\n",
              "      <td>2679477.0</td>\n",
              "      <td>110001</td>\n",
              "      <td>1</td>\n",
              "      <td>29</td>\n",
              "      <td>2.0</td>\n",
              "      <td>8 a 11 anos</td>\n",
              "      <td>999992.0</td>\n",
              "      <td>1.0</td>\n",
              "      <td>0.0</td>\n",
              "      <td>...</td>\n",
              "      <td>5</td>\n",
              "      <td>2</td>\n",
              "      <td>ATIVO</td>\n",
              "      <td>MUNIC</td>\n",
              "      <td>Alta Floresta D'Oeste</td>\n",
              "      <td>Rondônia</td>\n",
              "      <td>-11.93554</td>\n",
              "      <td>-61.99982</td>\n",
              "      <td>338.0</td>\n",
              "      <td>7067.025</td>\n",
              "    </tr>\n",
              "    <tr>\n",
              "      <th>2</th>\n",
              "      <td>1</td>\n",
              "      <td>2679477.0</td>\n",
              "      <td>110001</td>\n",
              "      <td>1</td>\n",
              "      <td>37</td>\n",
              "      <td>9.0</td>\n",
              "      <td>8 a 11 anos</td>\n",
              "      <td>513205.0</td>\n",
              "      <td>2.0</td>\n",
              "      <td>0.0</td>\n",
              "      <td>...</td>\n",
              "      <td>5</td>\n",
              "      <td>3</td>\n",
              "      <td>ATIVO</td>\n",
              "      <td>MUNIC</td>\n",
              "      <td>Alta Floresta D'Oeste</td>\n",
              "      <td>Rondônia</td>\n",
              "      <td>-11.93554</td>\n",
              "      <td>-61.99982</td>\n",
              "      <td>338.0</td>\n",
              "      <td>7067.025</td>\n",
              "    </tr>\n",
              "    <tr>\n",
              "      <th>3</th>\n",
              "      <td>1</td>\n",
              "      <td>2516500.0</td>\n",
              "      <td>110001</td>\n",
              "      <td>1</td>\n",
              "      <td>30</td>\n",
              "      <td>5.0</td>\n",
              "      <td>12 anos ou mais</td>\n",
              "      <td>231205.0</td>\n",
              "      <td>0.0</td>\n",
              "      <td>0.0</td>\n",
              "      <td>...</td>\n",
              "      <td>4</td>\n",
              "      <td>4</td>\n",
              "      <td>ATIVO</td>\n",
              "      <td>MUNIC</td>\n",
              "      <td>Alto Alegre dos Parecis</td>\n",
              "      <td>Rondônia</td>\n",
              "      <td>-12.13178</td>\n",
              "      <td>-61.85308</td>\n",
              "      <td>397.0</td>\n",
              "      <td>3958.273</td>\n",
              "    </tr>\n",
              "    <tr>\n",
              "      <th>4</th>\n",
              "      <td>1</td>\n",
              "      <td>2516500.0</td>\n",
              "      <td>110001</td>\n",
              "      <td>1</td>\n",
              "      <td>30</td>\n",
              "      <td>2.0</td>\n",
              "      <td>8 a 11 anos</td>\n",
              "      <td>999992.0</td>\n",
              "      <td>1.0</td>\n",
              "      <td>0.0</td>\n",
              "      <td>...</td>\n",
              "      <td>5</td>\n",
              "      <td>5</td>\n",
              "      <td>ATIVO</td>\n",
              "      <td>MUNIC</td>\n",
              "      <td>Alta Floresta D'Oeste</td>\n",
              "      <td>Rondônia</td>\n",
              "      <td>-11.93554</td>\n",
              "      <td>-61.99982</td>\n",
              "      <td>338.0</td>\n",
              "      <td>7067.025</td>\n",
              "    </tr>\n",
              "  </tbody>\n",
              "</table>\n",
              "<p>5 rows × 69 columns</p>\n",
              "</div>"
            ],
            "text/plain": [
              "   ORIGEM   CODESTAB  CODMUNNASC  LOCNASC  IDADEMAE  ESTCIVMAE  \\\n",
              "0       1  2679477.0      110001        1        19        5.0   \n",
              "1       1  2679477.0      110001        1        29        2.0   \n",
              "2       1  2679477.0      110001        1        37        9.0   \n",
              "3       1  2516500.0      110001        1        30        5.0   \n",
              "4       1  2516500.0      110001        1        30        2.0   \n",
              "\n",
              "            ESCMAE  CODOCUPMAE  QTDFILVIVO  QTDFILMORT  ...  KOTELCHUCK  \\\n",
              "0      8 a 11 anos         NaN         0.0         0.0  ...           5   \n",
              "1      8 a 11 anos    999992.0         1.0         0.0  ...           5   \n",
              "2      8 a 11 anos    513205.0         2.0         0.0  ...           5   \n",
              "3  12 anos ou mais    231205.0         0.0         0.0  ...           4   \n",
              "4      8 a 11 anos    999992.0         1.0         0.0  ...           5   \n",
              "\n",
              "  CONTADOR munResStatus munResTipo               munResNome  munResUf  \\\n",
              "0        1        ATIVO      MUNIC    Alta Floresta D'Oeste  Rondônia   \n",
              "1        2        ATIVO      MUNIC    Alta Floresta D'Oeste  Rondônia   \n",
              "2        3        ATIVO      MUNIC    Alta Floresta D'Oeste  Rondônia   \n",
              "3        4        ATIVO      MUNIC  Alto Alegre dos Parecis  Rondônia   \n",
              "4        5        ATIVO      MUNIC    Alta Floresta D'Oeste  Rondônia   \n",
              "\n",
              "   munResLat munResLon  munResAlt  munResArea  \n",
              "0  -11.93554 -61.99982      338.0    7067.025  \n",
              "1  -11.93554 -61.99982      338.0    7067.025  \n",
              "2  -11.93554 -61.99982      338.0    7067.025  \n",
              "3  -12.13178 -61.85308      397.0    3958.273  \n",
              "4  -11.93554 -61.99982      338.0    7067.025  \n",
              "\n",
              "[5 rows x 69 columns]"
            ]
          },
          "execution_count": 2,
          "metadata": {},
          "output_type": "execute_result"
        }
      ],
      "source": [
        "sinasc_raw = pd.read_csv('SINASC_RO_2019.csv')\n",
        "sinasc_raw.head()"
      ]
    },
    {
      "cell_type": "code",
      "execution_count": null,
      "metadata": {
        "id": "Pz_6GorclTuC"
      },
      "outputs": [],
      "source": []
    },
    {
      "cell_type": "code",
      "execution_count": null,
      "metadata": {
        "id": "C7UKJm4slTuD"
      },
      "outputs": [],
      "source": []
    },
    {
      "cell_type": "code",
      "execution_count": null,
      "metadata": {
        "id": "X6JmtT08lTuD"
      },
      "outputs": [],
      "source": []
    },
    {
      "cell_type": "markdown",
      "metadata": {
        "id": "9GOoel3-lTuD"
      },
      "source": [
        "# Tarefa 2"
      ]
    },
    {
      "cell_type": "markdown",
      "metadata": {
        "id": "iNNeWswTlTuD"
      },
      "source": [
        "### 1. Crie 2 faixas de Latitude do município (munResLat) sendo uma acima e outra abaixo de -10.5 e aplique o groupby usando essas faixas como chave e realize operações de soma, media, minimo, maximo, mediana, desvio padrao, variancia pra pelo menos 2 variáveis numéricas ainda não utilizadas"
      ]
    },
    {
      "cell_type": "code",
      "execution_count": null,
      "metadata": {
        "id": "HXtelNbnlTuE"
      },
      "outputs": [],
      "source": []
    },
    {
      "cell_type": "markdown",
      "metadata": {
        "id": "AK33D0mdlTuE"
      },
      "source": [
        "### 2. Crie 2 faixas da área dos municípios (munResArea) sendo uma acima e outra abaixo de 3000 e aplique o groupby usando essas faixas como chave e realize operações de soma, media, minimo, maximo, mediana, desvio padrao, variancia pra pelo menos 2 variáveis numéricas ainda não utilizadas\n"
      ]
    },
    {
      "cell_type": "code",
      "execution_count": null,
      "metadata": {
        "id": "qqCXJtYIlTuE"
      },
      "outputs": [],
      "source": []
    },
    {
      "cell_type": "markdown",
      "metadata": {
        "id": "aWaljnnxlTuE"
      },
      "source": [
        "### 3. Determine faixas na variável munResAlt e aplique o groupby usando essas faixas como chave e realize operações de soma, media, minimo, maximo, mediana, desvio padrao, variancia pra pelo menos 2 variáveis numéricas ainda não utilizadas"
      ]
    },
    {
      "cell_type": "markdown",
      "metadata": {
        "id": "aF1riawJlTuF"
      },
      "source": [
        "### 4. Plote no mesmo grafico ao longo do tempo a idade media das mulheres de cada regiao imediatas de rondonia\n"
      ]
    },
    {
      "cell_type": "code",
      "source": [
        "imediatas = {\n",
        "    \"Candeias do Jamari\": \"Porto Velho\",\n",
        "    \"Guajará-Mirim\": \"Porto Velho\",\n",
        "    \"Itapuã do Oeste\": \"Porto Velho\",\n",
        "    \"Nova Mamoré\": \"Porto Velho\",\n",
        "    \"Porto Velho\": \"Porto Velho\",\n",
        "    \"Ariquemes\": \"Ariquemes\",\n",
        "    \"Alto Paraíso\": \"Ariquemes\",\n",
        "    \"Buritis\": \"Ariquemes\",\n",
        "    \"Cacaulândia\": \"Ariquemes\",\n",
        "    \"Campo Novo de Rondônia\": \"Ariquemes\",\n",
        "    \"Cujubim\": \"Ariquemes\",\n",
        "    \"Monte Negro\": \"Ariquemes\",\n",
        "    \"Rio Crespo\": \"Ariquemes\",\n",
        "    \"Jaru\": \"Jaru\",\n",
        "    \"Governador Jorge Teixeira\": \"Jaru\",\n",
        "    \"Machadinho D'Oeste\": \"Jaru\",\n",
        "    \"Theobroma\": \"Jaru\",\n",
        "    \"Vale do Anari\": \"Jaru\",\n",
        "    \"Alvorada D'Oeste\": \"Ji-Paraná\",\n",
        "    \"Costa Marques\": \"Ji-Paraná\",\n",
        "    \"Ji-Paraná\": \"Ji-Paraná\",\n",
        "    \"Mirante da Serra\": \"Ji-Paraná\",\n",
        "    \"Nova União\": \"Ji-Paraná\",\n",
        "    \"Ouro Preto do Oeste\": \"Ji-Paraná\",\n",
        "    \"Presidente Médici\": \"Ji-Paraná\",\n",
        "    \"São Francisco do Guaporé\": \"Ji-Paraná\",\n",
        "    \"São Miguel do Guaporé\": \"Ji-Paraná\",\n",
        "    \"Seringueiras\": \"Ji-Paraná\",\n",
        "    \"Teixeirópolis\": \"Ji-Paraná\",\n",
        "    \"Urupá\": \"Ji-Paraná\",\n",
        "    \"Vale do Paraíso\": \"Ji-Paraná\",\n",
        "    \"Cacoal\": \"Cacoal\",\n",
        "    \"Alta Floresta D'Oeste\": \"Cacoal\",\n",
        "    \"Alto Alegre dos Parecis\": \"Cacoal\",\n",
        "    \"Castanheiras\": \"Cacoal\",\n",
        "    \"Espigão D'Oeste\": \"Cacoal\",\n",
        "    \"Ministro Andreazza\": \"Cacoal\",\n",
        "    \"Nova Brasilândia D'Oeste\": \"Cacoal\",\n",
        "    \"Novo Horizonte do Oeste\": \"Cacoal\",\n",
        "    \"Parecis\": \"Cacoal\",\n",
        "    \"Pimenta Bueno\": \"Cacoal\",\n",
        "    \"Primavera de Rondônia\": \"Cacoal\",\n",
        "    \"Rolim de Moura\": \"Cacoal\",\n",
        "    \"Santa Luzia D'Oeste\": \"Cacoal\",\n",
        "    \"São Felipe D'Oeste\": \"Cacoal\",\n",
        "    \"Vilhena\": \"Vilhena\",\n",
        "    \"Cabixi\": \"Vilhena\",\n",
        "    \"Cerejeiras\": \"Vilhena\",\n",
        "    \"Chupinguaia\": \"Vilhena\",\n",
        "    \"Colorado do Oeste\": \"Vilhena\",\n",
        "    \"Corumbiara\": \"Vilhena\",\n",
        "    \"Pimenteiras do Oeste\": \"Vilhena\"\n",
        "}"
      ],
      "metadata": {
        "id": "6aZM5xKale9c"
      },
      "execution_count": null,
      "outputs": []
    },
    {
      "cell_type": "markdown",
      "metadata": {
        "id": "yt-LIWxblTuF"
      },
      "source": [
        "### 5. Utilize a tabela do link abaixo e crie faixas utilizando o mapping e gere agrupamentos utilizando essas faixas como chave\n"
      ]
    },
    {
      "cell_type": "markdown",
      "metadata": {
        "id": "moZakjgIlTuF"
      },
      "source": [
        "### 5.1 IDH\n",
        "A - https://pt.wikipedia.org/wiki/Lista_de_munic%C3%ADpios_de_Rond%C3%B4nia_por_IDH-M\n"
      ]
    },
    {
      "cell_type": "code",
      "execution_count": null,
      "metadata": {
        "id": "DaJk66_BlTuF"
      },
      "outputs": [],
      "source": []
    },
    {
      "cell_type": "markdown",
      "metadata": {
        "id": "zhtI6CxtlTuH"
      },
      "source": [
        "### 5.2 IFDM\n",
        "B - https://pt.wikipedia.org/wiki/Lista_de_munic%C3%ADpios_de_Rond%C3%B4nia_por_IFDM\n"
      ]
    },
    {
      "cell_type": "code",
      "execution_count": null,
      "metadata": {
        "id": "1AVkd1M3lTuI"
      },
      "outputs": [],
      "source": []
    },
    {
      "cell_type": "markdown",
      "metadata": {
        "id": "BwdS46EWlTuI"
      },
      "source": [
        "### 5.3 PIB\n",
        "C - https://pt.wikipedia.org/wiki/Lista_de_munic%C3%ADpios_de_Rond%C3%B4nia_por_PIB\n"
      ]
    },
    {
      "cell_type": "markdown",
      "metadata": {
        "id": "bdWGW_xtlTuI"
      },
      "source": [
        "### Analise as respostas encontradas, tire algum insight delas, conte pra gente algo encontrado nos dados."
      ]
    },
    {
      "cell_type": "markdown",
      "metadata": {
        "id": "shZvokfBlTuI"
      },
      "source": [
        "Exemplo:\n",
        "- Ah, descobri que a idade mediana das mulheres que deram a luz no ano de 2019 dos municipios com o PIB mais alto é a maior dentre todas."
      ]
    },
    {
      "cell_type": "code",
      "execution_count": null,
      "metadata": {
        "id": "f8P7BYYglTuJ"
      },
      "outputs": [],
      "source": []
    }
  ],
  "metadata": {
    "kernelspec": {
      "display_name": "Python 3",
      "language": "python",
      "name": "python3"
    },
    "language_info": {
      "codemirror_mode": {
        "name": "ipython",
        "version": 3
      },
      "file_extension": ".py",
      "mimetype": "text/x-python",
      "name": "python",
      "nbconvert_exporter": "python",
      "pygments_lexer": "ipython3",
      "version": "3.8.5"
    },
    "varInspector": {
      "cols": {
        "lenName": 16,
        "lenType": 16,
        "lenVar": 40
      },
      "kernels_config": {
        "python": {
          "delete_cmd_postfix": "",
          "delete_cmd_prefix": "del ",
          "library": "var_list.py",
          "varRefreshCmd": "print(var_dic_list())"
        },
        "r": {
          "delete_cmd_postfix": ") ",
          "delete_cmd_prefix": "rm(",
          "library": "var_list.r",
          "varRefreshCmd": "cat(var_dic_list()) "
        }
      },
      "types_to_exclude": [
        "module",
        "function",
        "builtin_function_or_method",
        "instance",
        "_Feature"
      ],
      "window_display": false
    },
    "colab": {
      "provenance": []
    }
  },
  "nbformat": 4,
  "nbformat_minor": 0
}