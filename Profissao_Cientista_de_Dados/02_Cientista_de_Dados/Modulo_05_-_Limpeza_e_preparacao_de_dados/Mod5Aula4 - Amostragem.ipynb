{
 "cells": [
  {
   "cell_type": "markdown",
   "metadata": {},
   "source": [
    "# Índice <a name=\"Contents\"></a>\n",
    "1. [Importando bibliotecas](#import)\n",
    "2. [Construindo um dataframe ](#read)\n",
    "3. [Amostragem (sample)](#amostragem)\n",
    "3. [Intro sobre métodos de string](#strings)\n",
    "\n"
   ]
  },
  {
   "cell_type": "markdown",
   "metadata": {},
   "source": [
    "# 1. Importando bibliotecas <a name=\"import\"></a>\n",
    "\n",
    "<div style=\"text-align: right\"\n",
    "     \n",
    "[Voltar ao índice](#Contents)"
   ]
  },
  {
   "cell_type": "code",
   "execution_count": 2,
   "metadata": {
    "ExecuteTime": {
     "end_time": "2021-05-31T09:48:00.524786Z",
     "start_time": "2021-05-31T09:47:57.714385Z"
    }
   },
   "outputs": [],
   "source": [
    "import numpy  as np\n",
    "import pandas as pd"
   ]
  },
  {
   "cell_type": "markdown",
   "metadata": {},
   "source": [
    "# 2. Construindo um dataframe  <a name=\"read\"></a>\n",
    "<div style=\"text-align: right\"\n",
    "     \n",
    "[Voltar ao índice](#Contents)"
   ]
  },
  {
   "cell_type": "code",
   "execution_count": 7,
   "metadata": {
    "ExecuteTime": {
     "end_time": "2021-05-31T09:50:48.945129Z",
     "start_time": "2021-05-31T09:50:48.840662Z"
    }
   },
   "outputs": [],
   "source": [
    "df = pd.DataFrame(np.random.randint(100000, size=(1000000, 10)),\n",
    "             columns=['A', 'B', 'C', 'D', 'E', 'F', 'G', 'H', 'I', 'J'])"
   ]
  },
  {
   "cell_type": "markdown",
   "metadata": {},
   "source": [
    "# 3. Amostragem <a name=\"amostragem\"></a>\n",
    "<div style=\"text-align: right\"\n",
    "     \n",
    "[Voltar ao índice](#Contents)"
   ]
  },
  {
   "cell_type": "code",
   "execution_count": 51,
   "metadata": {
    "ExecuteTime": {
     "end_time": "2021-05-31T09:53:30.287377Z",
     "start_time": "2021-05-31T09:53:30.273391Z"
    }
   },
   "outputs": [
    {
     "data": {
      "text/plain": [
       "(1000000, 10)"
      ]
     },
     "execution_count": 51,
     "metadata": {},
     "output_type": "execute_result"
    }
   ],
   "source": [
    "df.shape"
   ]
  },
  {
   "cell_type": "code",
   "execution_count": 32,
   "metadata": {
    "ExecuteTime": {
     "end_time": "2021-05-31T09:52:47.422509Z",
     "start_time": "2021-05-31T09:52:47.363477Z"
    }
   },
   "outputs": [
    {
     "data": {
      "text/html": [
       "<div>\n",
       "<style scoped>\n",
       "    .dataframe tbody tr th:only-of-type {\n",
       "        vertical-align: middle;\n",
       "    }\n",
       "\n",
       "    .dataframe tbody tr th {\n",
       "        vertical-align: top;\n",
       "    }\n",
       "\n",
       "    .dataframe thead th {\n",
       "        text-align: right;\n",
       "    }\n",
       "</style>\n",
       "<table border=\"1\" class=\"dataframe\">\n",
       "  <thead>\n",
       "    <tr style=\"text-align: right;\">\n",
       "      <th></th>\n",
       "      <th>A</th>\n",
       "      <th>B</th>\n",
       "      <th>C</th>\n",
       "      <th>D</th>\n",
       "      <th>E</th>\n",
       "      <th>F</th>\n",
       "      <th>G</th>\n",
       "      <th>H</th>\n",
       "      <th>I</th>\n",
       "      <th>J</th>\n",
       "    </tr>\n",
       "  </thead>\n",
       "  <tbody>\n",
       "    <tr>\n",
       "      <th>481938</th>\n",
       "      <td>22489</td>\n",
       "      <td>34142</td>\n",
       "      <td>56707</td>\n",
       "      <td>43160</td>\n",
       "      <td>18096</td>\n",
       "      <td>89029</td>\n",
       "      <td>75925</td>\n",
       "      <td>28083</td>\n",
       "      <td>70200</td>\n",
       "      <td>93535</td>\n",
       "    </tr>\n",
       "    <tr>\n",
       "      <th>457452</th>\n",
       "      <td>36326</td>\n",
       "      <td>22215</td>\n",
       "      <td>78971</td>\n",
       "      <td>64156</td>\n",
       "      <td>32111</td>\n",
       "      <td>97530</td>\n",
       "      <td>71591</td>\n",
       "      <td>33698</td>\n",
       "      <td>77543</td>\n",
       "      <td>7424</td>\n",
       "    </tr>\n",
       "    <tr>\n",
       "      <th>645401</th>\n",
       "      <td>5110</td>\n",
       "      <td>26830</td>\n",
       "      <td>53091</td>\n",
       "      <td>53105</td>\n",
       "      <td>81091</td>\n",
       "      <td>23515</td>\n",
       "      <td>53019</td>\n",
       "      <td>46226</td>\n",
       "      <td>41713</td>\n",
       "      <td>86493</td>\n",
       "    </tr>\n",
       "    <tr>\n",
       "      <th>53372</th>\n",
       "      <td>6598</td>\n",
       "      <td>84668</td>\n",
       "      <td>79269</td>\n",
       "      <td>50653</td>\n",
       "      <td>73217</td>\n",
       "      <td>86169</td>\n",
       "      <td>90154</td>\n",
       "      <td>23866</td>\n",
       "      <td>62822</td>\n",
       "      <td>38671</td>\n",
       "    </tr>\n",
       "    <tr>\n",
       "      <th>636894</th>\n",
       "      <td>93085</td>\n",
       "      <td>45660</td>\n",
       "      <td>3139</td>\n",
       "      <td>82136</td>\n",
       "      <td>85901</td>\n",
       "      <td>58693</td>\n",
       "      <td>26821</td>\n",
       "      <td>35901</td>\n",
       "      <td>81753</td>\n",
       "      <td>78901</td>\n",
       "    </tr>\n",
       "    <tr>\n",
       "      <th>545937</th>\n",
       "      <td>45267</td>\n",
       "      <td>63867</td>\n",
       "      <td>48614</td>\n",
       "      <td>41795</td>\n",
       "      <td>84595</td>\n",
       "      <td>19447</td>\n",
       "      <td>36221</td>\n",
       "      <td>82401</td>\n",
       "      <td>85290</td>\n",
       "      <td>4355</td>\n",
       "    </tr>\n",
       "    <tr>\n",
       "      <th>733544</th>\n",
       "      <td>60192</td>\n",
       "      <td>81092</td>\n",
       "      <td>62136</td>\n",
       "      <td>81082</td>\n",
       "      <td>14569</td>\n",
       "      <td>7219</td>\n",
       "      <td>4154</td>\n",
       "      <td>43642</td>\n",
       "      <td>9053</td>\n",
       "      <td>52654</td>\n",
       "    </tr>\n",
       "    <tr>\n",
       "      <th>993836</th>\n",
       "      <td>19343</td>\n",
       "      <td>49530</td>\n",
       "      <td>5182</td>\n",
       "      <td>28901</td>\n",
       "      <td>54895</td>\n",
       "      <td>70856</td>\n",
       "      <td>72515</td>\n",
       "      <td>85940</td>\n",
       "      <td>63392</td>\n",
       "      <td>75762</td>\n",
       "    </tr>\n",
       "    <tr>\n",
       "      <th>728283</th>\n",
       "      <td>82908</td>\n",
       "      <td>81116</td>\n",
       "      <td>47911</td>\n",
       "      <td>40651</td>\n",
       "      <td>62725</td>\n",
       "      <td>37209</td>\n",
       "      <td>47205</td>\n",
       "      <td>70218</td>\n",
       "      <td>80971</td>\n",
       "      <td>86445</td>\n",
       "    </tr>\n",
       "    <tr>\n",
       "      <th>423819</th>\n",
       "      <td>11934</td>\n",
       "      <td>74083</td>\n",
       "      <td>97027</td>\n",
       "      <td>35340</td>\n",
       "      <td>92657</td>\n",
       "      <td>58857</td>\n",
       "      <td>72313</td>\n",
       "      <td>5649</td>\n",
       "      <td>72787</td>\n",
       "      <td>71832</td>\n",
       "    </tr>\n",
       "  </tbody>\n",
       "</table>\n",
       "</div>"
      ],
      "text/plain": [
       "            A      B      C      D      E      F      G      H      I      J\n",
       "481938  22489  34142  56707  43160  18096  89029  75925  28083  70200  93535\n",
       "457452  36326  22215  78971  64156  32111  97530  71591  33698  77543   7424\n",
       "645401   5110  26830  53091  53105  81091  23515  53019  46226  41713  86493\n",
       "53372    6598  84668  79269  50653  73217  86169  90154  23866  62822  38671\n",
       "636894  93085  45660   3139  82136  85901  58693  26821  35901  81753  78901\n",
       "545937  45267  63867  48614  41795  84595  19447  36221  82401  85290   4355\n",
       "733544  60192  81092  62136  81082  14569   7219   4154  43642   9053  52654\n",
       "993836  19343  49530   5182  28901  54895  70856  72515  85940  63392  75762\n",
       "728283  82908  81116  47911  40651  62725  37209  47205  70218  80971  86445\n",
       "423819  11934  74083  97027  35340  92657  58857  72313   5649  72787  71832"
      ]
     },
     "execution_count": 32,
     "metadata": {},
     "output_type": "execute_result"
    }
   ],
   "source": [
    "df.sample(10)"
   ]
  },
  {
   "cell_type": "code",
   "execution_count": 40,
   "metadata": {
    "ExecuteTime": {
     "end_time": "2021-05-31T09:52:50.016696Z",
     "start_time": "2021-05-31T09:52:49.955731Z"
    },
    "scrolled": true
   },
   "outputs": [
    {
     "data": {
      "text/html": [
       "<div>\n",
       "<style scoped>\n",
       "    .dataframe tbody tr th:only-of-type {\n",
       "        vertical-align: middle;\n",
       "    }\n",
       "\n",
       "    .dataframe tbody tr th {\n",
       "        vertical-align: top;\n",
       "    }\n",
       "\n",
       "    .dataframe thead th {\n",
       "        text-align: right;\n",
       "    }\n",
       "</style>\n",
       "<table border=\"1\" class=\"dataframe\">\n",
       "  <thead>\n",
       "    <tr style=\"text-align: right;\">\n",
       "      <th></th>\n",
       "      <th>A</th>\n",
       "      <th>B</th>\n",
       "      <th>C</th>\n",
       "      <th>D</th>\n",
       "      <th>E</th>\n",
       "      <th>F</th>\n",
       "      <th>G</th>\n",
       "      <th>H</th>\n",
       "      <th>I</th>\n",
       "      <th>J</th>\n",
       "    </tr>\n",
       "  </thead>\n",
       "  <tbody>\n",
       "    <tr>\n",
       "      <th>617759</th>\n",
       "      <td>41669</td>\n",
       "      <td>8882</td>\n",
       "      <td>7877</td>\n",
       "      <td>43154</td>\n",
       "      <td>1224</td>\n",
       "      <td>49415</td>\n",
       "      <td>85016</td>\n",
       "      <td>34530</td>\n",
       "      <td>52109</td>\n",
       "      <td>57054</td>\n",
       "    </tr>\n",
       "    <tr>\n",
       "      <th>693227</th>\n",
       "      <td>51937</td>\n",
       "      <td>46249</td>\n",
       "      <td>8849</td>\n",
       "      <td>68273</td>\n",
       "      <td>52667</td>\n",
       "      <td>44377</td>\n",
       "      <td>4207</td>\n",
       "      <td>74843</td>\n",
       "      <td>45773</td>\n",
       "      <td>63790</td>\n",
       "    </tr>\n",
       "    <tr>\n",
       "      <th>906065</th>\n",
       "      <td>98008</td>\n",
       "      <td>53725</td>\n",
       "      <td>20075</td>\n",
       "      <td>29304</td>\n",
       "      <td>1389</td>\n",
       "      <td>31344</td>\n",
       "      <td>87324</td>\n",
       "      <td>97304</td>\n",
       "      <td>30782</td>\n",
       "      <td>32803</td>\n",
       "    </tr>\n",
       "    <tr>\n",
       "      <th>828507</th>\n",
       "      <td>44402</td>\n",
       "      <td>80107</td>\n",
       "      <td>28608</td>\n",
       "      <td>12712</td>\n",
       "      <td>1533</td>\n",
       "      <td>68402</td>\n",
       "      <td>93341</td>\n",
       "      <td>36328</td>\n",
       "      <td>3743</td>\n",
       "      <td>34712</td>\n",
       "    </tr>\n",
       "    <tr>\n",
       "      <th>869730</th>\n",
       "      <td>95917</td>\n",
       "      <td>14936</td>\n",
       "      <td>75113</td>\n",
       "      <td>83432</td>\n",
       "      <td>51270</td>\n",
       "      <td>37686</td>\n",
       "      <td>96810</td>\n",
       "      <td>20667</td>\n",
       "      <td>59884</td>\n",
       "      <td>80574</td>\n",
       "    </tr>\n",
       "    <tr>\n",
       "      <th>147081</th>\n",
       "      <td>34210</td>\n",
       "      <td>8945</td>\n",
       "      <td>86768</td>\n",
       "      <td>13068</td>\n",
       "      <td>87947</td>\n",
       "      <td>65622</td>\n",
       "      <td>39837</td>\n",
       "      <td>1020</td>\n",
       "      <td>47474</td>\n",
       "      <td>95631</td>\n",
       "    </tr>\n",
       "    <tr>\n",
       "      <th>779428</th>\n",
       "      <td>4205</td>\n",
       "      <td>80685</td>\n",
       "      <td>11024</td>\n",
       "      <td>81440</td>\n",
       "      <td>28982</td>\n",
       "      <td>9168</td>\n",
       "      <td>11478</td>\n",
       "      <td>45495</td>\n",
       "      <td>52757</td>\n",
       "      <td>15376</td>\n",
       "    </tr>\n",
       "    <tr>\n",
       "      <th>485973</th>\n",
       "      <td>76237</td>\n",
       "      <td>72713</td>\n",
       "      <td>14588</td>\n",
       "      <td>44834</td>\n",
       "      <td>92920</td>\n",
       "      <td>28597</td>\n",
       "      <td>60021</td>\n",
       "      <td>45229</td>\n",
       "      <td>81606</td>\n",
       "      <td>34742</td>\n",
       "    </tr>\n",
       "    <tr>\n",
       "      <th>30697</th>\n",
       "      <td>55353</td>\n",
       "      <td>3904</td>\n",
       "      <td>2882</td>\n",
       "      <td>82583</td>\n",
       "      <td>7031</td>\n",
       "      <td>11583</td>\n",
       "      <td>35593</td>\n",
       "      <td>22128</td>\n",
       "      <td>74605</td>\n",
       "      <td>15112</td>\n",
       "    </tr>\n",
       "    <tr>\n",
       "      <th>306669</th>\n",
       "      <td>74740</td>\n",
       "      <td>82521</td>\n",
       "      <td>56934</td>\n",
       "      <td>82472</td>\n",
       "      <td>19875</td>\n",
       "      <td>15000</td>\n",
       "      <td>43577</td>\n",
       "      <td>738</td>\n",
       "      <td>17911</td>\n",
       "      <td>84395</td>\n",
       "    </tr>\n",
       "  </tbody>\n",
       "</table>\n",
       "</div>"
      ],
      "text/plain": [
       "            A      B      C      D      E      F      G      H      I      J\n",
       "617759  41669   8882   7877  43154   1224  49415  85016  34530  52109  57054\n",
       "693227  51937  46249   8849  68273  52667  44377   4207  74843  45773  63790\n",
       "906065  98008  53725  20075  29304   1389  31344  87324  97304  30782  32803\n",
       "828507  44402  80107  28608  12712   1533  68402  93341  36328   3743  34712\n",
       "869730  95917  14936  75113  83432  51270  37686  96810  20667  59884  80574\n",
       "147081  34210   8945  86768  13068  87947  65622  39837   1020  47474  95631\n",
       "779428   4205  80685  11024  81440  28982   9168  11478  45495  52757  15376\n",
       "485973  76237  72713  14588  44834  92920  28597  60021  45229  81606  34742\n",
       "30697   55353   3904   2882  82583   7031  11583  35593  22128  74605  15112\n",
       "306669  74740  82521  56934  82472  19875  15000  43577    738  17911  84395"
      ]
     },
     "execution_count": 40,
     "metadata": {},
     "output_type": "execute_result"
    }
   ],
   "source": [
    "df.sample(10, random_state=100)"
   ]
  },
  {
   "cell_type": "code",
   "execution_count": 50,
   "metadata": {
    "ExecuteTime": {
     "end_time": "2021-05-31T09:53:12.039004Z",
     "start_time": "2021-05-31T09:53:11.970040Z"
    },
    "scrolled": false
   },
   "outputs": [
    {
     "data": {
      "text/html": [
       "<div>\n",
       "<style scoped>\n",
       "    .dataframe tbody tr th:only-of-type {\n",
       "        vertical-align: middle;\n",
       "    }\n",
       "\n",
       "    .dataframe tbody tr th {\n",
       "        vertical-align: top;\n",
       "    }\n",
       "\n",
       "    .dataframe thead th {\n",
       "        text-align: right;\n",
       "    }\n",
       "</style>\n",
       "<table border=\"1\" class=\"dataframe\">\n",
       "  <thead>\n",
       "    <tr style=\"text-align: right;\">\n",
       "      <th></th>\n",
       "      <th>A</th>\n",
       "      <th>B</th>\n",
       "      <th>C</th>\n",
       "      <th>D</th>\n",
       "      <th>E</th>\n",
       "      <th>F</th>\n",
       "      <th>G</th>\n",
       "      <th>H</th>\n",
       "      <th>I</th>\n",
       "      <th>J</th>\n",
       "    </tr>\n",
       "  </thead>\n",
       "  <tbody>\n",
       "    <tr>\n",
       "      <th>617759</th>\n",
       "      <td>41669</td>\n",
       "      <td>8882</td>\n",
       "      <td>7877</td>\n",
       "      <td>43154</td>\n",
       "      <td>1224</td>\n",
       "      <td>49415</td>\n",
       "      <td>85016</td>\n",
       "      <td>34530</td>\n",
       "      <td>52109</td>\n",
       "      <td>57054</td>\n",
       "    </tr>\n",
       "    <tr>\n",
       "      <th>693227</th>\n",
       "      <td>51937</td>\n",
       "      <td>46249</td>\n",
       "      <td>8849</td>\n",
       "      <td>68273</td>\n",
       "      <td>52667</td>\n",
       "      <td>44377</td>\n",
       "      <td>4207</td>\n",
       "      <td>74843</td>\n",
       "      <td>45773</td>\n",
       "      <td>63790</td>\n",
       "    </tr>\n",
       "    <tr>\n",
       "      <th>906065</th>\n",
       "      <td>98008</td>\n",
       "      <td>53725</td>\n",
       "      <td>20075</td>\n",
       "      <td>29304</td>\n",
       "      <td>1389</td>\n",
       "      <td>31344</td>\n",
       "      <td>87324</td>\n",
       "      <td>97304</td>\n",
       "      <td>30782</td>\n",
       "      <td>32803</td>\n",
       "    </tr>\n",
       "    <tr>\n",
       "      <th>828507</th>\n",
       "      <td>44402</td>\n",
       "      <td>80107</td>\n",
       "      <td>28608</td>\n",
       "      <td>12712</td>\n",
       "      <td>1533</td>\n",
       "      <td>68402</td>\n",
       "      <td>93341</td>\n",
       "      <td>36328</td>\n",
       "      <td>3743</td>\n",
       "      <td>34712</td>\n",
       "    </tr>\n",
       "    <tr>\n",
       "      <th>869730</th>\n",
       "      <td>95917</td>\n",
       "      <td>14936</td>\n",
       "      <td>75113</td>\n",
       "      <td>83432</td>\n",
       "      <td>51270</td>\n",
       "      <td>37686</td>\n",
       "      <td>96810</td>\n",
       "      <td>20667</td>\n",
       "      <td>59884</td>\n",
       "      <td>80574</td>\n",
       "    </tr>\n",
       "    <tr>\n",
       "      <th>...</th>\n",
       "      <td>...</td>\n",
       "      <td>...</td>\n",
       "      <td>...</td>\n",
       "      <td>...</td>\n",
       "      <td>...</td>\n",
       "      <td>...</td>\n",
       "      <td>...</td>\n",
       "      <td>...</td>\n",
       "      <td>...</td>\n",
       "      <td>...</td>\n",
       "    </tr>\n",
       "    <tr>\n",
       "      <th>599633</th>\n",
       "      <td>62298</td>\n",
       "      <td>19932</td>\n",
       "      <td>44386</td>\n",
       "      <td>14935</td>\n",
       "      <td>33344</td>\n",
       "      <td>55702</td>\n",
       "      <td>17762</td>\n",
       "      <td>57585</td>\n",
       "      <td>57934</td>\n",
       "      <td>19968</td>\n",
       "    </tr>\n",
       "    <tr>\n",
       "      <th>103907</th>\n",
       "      <td>44865</td>\n",
       "      <td>90759</td>\n",
       "      <td>36254</td>\n",
       "      <td>24019</td>\n",
       "      <td>63944</td>\n",
       "      <td>17784</td>\n",
       "      <td>87621</td>\n",
       "      <td>50138</td>\n",
       "      <td>1486</td>\n",
       "      <td>73440</td>\n",
       "    </tr>\n",
       "    <tr>\n",
       "      <th>536846</th>\n",
       "      <td>66990</td>\n",
       "      <td>70719</td>\n",
       "      <td>8894</td>\n",
       "      <td>9694</td>\n",
       "      <td>60350</td>\n",
       "      <td>22112</td>\n",
       "      <td>96397</td>\n",
       "      <td>2133</td>\n",
       "      <td>81851</td>\n",
       "      <td>67700</td>\n",
       "    </tr>\n",
       "    <tr>\n",
       "      <th>68354</th>\n",
       "      <td>79899</td>\n",
       "      <td>393</td>\n",
       "      <td>89985</td>\n",
       "      <td>90605</td>\n",
       "      <td>20326</td>\n",
       "      <td>28140</td>\n",
       "      <td>19648</td>\n",
       "      <td>84331</td>\n",
       "      <td>51738</td>\n",
       "      <td>62367</td>\n",
       "    </tr>\n",
       "    <tr>\n",
       "      <th>762302</th>\n",
       "      <td>89027</td>\n",
       "      <td>55091</td>\n",
       "      <td>20028</td>\n",
       "      <td>97348</td>\n",
       "      <td>541</td>\n",
       "      <td>15159</td>\n",
       "      <td>84278</td>\n",
       "      <td>26271</td>\n",
       "      <td>26956</td>\n",
       "      <td>17800</td>\n",
       "    </tr>\n",
       "  </tbody>\n",
       "</table>\n",
       "<p>100000 rows × 10 columns</p>\n",
       "</div>"
      ],
      "text/plain": [
       "            A      B      C      D      E      F      G      H      I      J\n",
       "617759  41669   8882   7877  43154   1224  49415  85016  34530  52109  57054\n",
       "693227  51937  46249   8849  68273  52667  44377   4207  74843  45773  63790\n",
       "906065  98008  53725  20075  29304   1389  31344  87324  97304  30782  32803\n",
       "828507  44402  80107  28608  12712   1533  68402  93341  36328   3743  34712\n",
       "869730  95917  14936  75113  83432  51270  37686  96810  20667  59884  80574\n",
       "...       ...    ...    ...    ...    ...    ...    ...    ...    ...    ...\n",
       "599633  62298  19932  44386  14935  33344  55702  17762  57585  57934  19968\n",
       "103907  44865  90759  36254  24019  63944  17784  87621  50138   1486  73440\n",
       "536846  66990  70719   8894   9694  60350  22112  96397   2133  81851  67700\n",
       "68354   79899    393  89985  90605  20326  28140  19648  84331  51738  62367\n",
       "762302  89027  55091  20028  97348    541  15159  84278  26271  26956  17800\n",
       "\n",
       "[100000 rows x 10 columns]"
      ]
     },
     "execution_count": 50,
     "metadata": {},
     "output_type": "execute_result"
    }
   ],
   "source": [
    "df.sample(frac=0.1, random_state=100)"
   ]
  },
  {
   "cell_type": "markdown",
   "metadata": {},
   "source": [
    "# 4. Manipulação de strings - métodos <a name=\"strings\"></a>\n",
    "<div style=\"text-align: right\"\n",
    "     \n",
    "[Voltar ao índice](#Contents)"
   ]
  },
  {
   "cell_type": "code",
   "execution_count": 58,
   "metadata": {
    "ExecuteTime": {
     "end_time": "2021-05-31T10:15:36.733921Z",
     "start_time": "2021-05-31T10:15:36.725926Z"
    }
   },
   "outputs": [],
   "source": [
    "texto = 'texto'"
   ]
  },
  {
   "cell_type": "code",
   "execution_count": 59,
   "metadata": {
    "ExecuteTime": {
     "end_time": "2021-05-31T10:15:41.550985Z",
     "start_time": "2021-05-31T10:15:41.536019Z"
    }
   },
   "outputs": [
    {
     "data": {
      "text/plain": [
       "'otxet'"
      ]
     },
     "execution_count": 59,
     "metadata": {},
     "output_type": "execute_result"
    }
   ],
   "source": [
    "texto[::-1]"
   ]
  },
  {
   "cell_type": "code",
   "execution_count": 64,
   "metadata": {
    "ExecuteTime": {
     "end_time": "2021-05-31T10:19:25.536743Z",
     "start_time": "2021-05-31T10:19:25.522752Z"
    }
   },
   "outputs": [],
   "source": [
    "palindromo = 'apos a sopa'"
   ]
  },
  {
   "cell_type": "code",
   "execution_count": 65,
   "metadata": {
    "ExecuteTime": {
     "end_time": "2021-05-31T10:19:26.240953Z",
     "start_time": "2021-05-31T10:19:26.225962Z"
    }
   },
   "outputs": [
    {
     "data": {
      "text/plain": [
       "'apos a sopa'"
      ]
     },
     "execution_count": 65,
     "metadata": {},
     "output_type": "execute_result"
    }
   ],
   "source": [
    "palindromo[::-1]"
   ]
  },
  {
   "cell_type": "code",
   "execution_count": 67,
   "metadata": {
    "ExecuteTime": {
     "end_time": "2021-06-01T09:56:36.677981Z",
     "start_time": "2021-06-01T09:56:36.662980Z"
    }
   },
   "outputs": [
    {
     "data": {
      "text/plain": [
       "'Texto'"
      ]
     },
     "execution_count": 67,
     "metadata": {},
     "output_type": "execute_result"
    }
   ],
   "source": [
    "texto = 'teXTO'\n",
    "texto.capitalize()"
   ]
  },
  {
   "cell_type": "code",
   "execution_count": 68,
   "metadata": {
    "ExecuteTime": {
     "end_time": "2021-06-01T09:56:49.873292Z",
     "start_time": "2021-06-01T09:56:49.864296Z"
    }
   },
   "outputs": [
    {
     "data": {
      "text/plain": [
       "'texto'"
      ]
     },
     "execution_count": 68,
     "metadata": {},
     "output_type": "execute_result"
    }
   ],
   "source": [
    "texto.lower()"
   ]
  },
  {
   "cell_type": "code",
   "execution_count": 70,
   "metadata": {
    "ExecuteTime": {
     "end_time": "2021-06-01T09:59:28.909681Z",
     "start_time": "2021-06-01T09:59:28.895687Z"
    }
   },
   "outputs": [
    {
     "data": {
      "text/plain": [
       "'TEXTO'"
      ]
     },
     "execution_count": 70,
     "metadata": {},
     "output_type": "execute_result"
    }
   ],
   "source": [
    "texto.upper()"
   ]
  },
  {
   "cell_type": "code",
   "execution_count": 75,
   "metadata": {
    "ExecuteTime": {
     "end_time": "2021-06-01T10:02:02.244478Z",
     "start_time": "2021-06-01T10:02:02.231486Z"
    }
   },
   "outputs": [
    {
     "data": {
      "text/plain": [
       "2"
      ]
     },
     "execution_count": 75,
     "metadata": {},
     "output_type": "execute_result"
    }
   ],
   "source": [
    "# S.find(sub[, start[, end]]) -> int\n",
    "texto.find('X')"
   ]
  },
  {
   "cell_type": "code",
   "execution_count": 78,
   "metadata": {
    "ExecuteTime": {
     "end_time": "2021-06-01T10:16:22.092756Z",
     "start_time": "2021-06-01T10:16:22.076776Z"
    }
   },
   "outputs": [
    {
     "data": {
      "text/plain": [
       "'X'"
      ]
     },
     "execution_count": 78,
     "metadata": {},
     "output_type": "execute_result"
    }
   ],
   "source": [
    "texto[2]"
   ]
  },
  {
   "cell_type": "code",
   "execution_count": 76,
   "metadata": {
    "ExecuteTime": {
     "end_time": "2021-06-01T10:02:03.055975Z",
     "start_time": "2021-06-01T10:02:03.038984Z"
    }
   },
   "outputs": [
    {
     "data": {
      "text/plain": [
       "-1"
      ]
     },
     "execution_count": 76,
     "metadata": {},
     "output_type": "execute_result"
    }
   ],
   "source": [
    "#S.find(sub[, start[, end]]) -> int\n",
    "texto.find('x')"
   ]
  },
  {
   "cell_type": "code",
   "execution_count": 77,
   "metadata": {
    "ExecuteTime": {
     "end_time": "2021-06-01T10:07:22.993769Z",
     "start_time": "2021-06-01T10:07:22.976796Z"
    }
   },
   "outputs": [
    {
     "data": {
      "text/plain": [
       "'testa'"
      ]
     },
     "execution_count": 77,
     "metadata": {},
     "output_type": "execute_result"
    }
   ],
   "source": [
    "#texto.replace(antigo, novo)\n",
    "texto.replace('XTO','sta')"
   ]
  },
  {
   "cell_type": "code",
   "execution_count": null,
   "metadata": {},
   "outputs": [],
   "source": []
  },
  {
   "cell_type": "code",
   "execution_count": null,
   "metadata": {},
   "outputs": [],
   "source": []
  }
 ],
 "metadata": {
  "kernelspec": {
   "display_name": "Python 3",
   "language": "python",
   "name": "python3"
  },
  "language_info": {
   "codemirror_mode": {
    "name": "ipython",
    "version": 3
   },
   "file_extension": ".py",
   "mimetype": "text/x-python",
   "name": "python",
   "nbconvert_exporter": "python",
   "pygments_lexer": "ipython3",
   "version": "3.8.5"
  },
  "varInspector": {
   "cols": {
    "lenName": 16,
    "lenType": 16,
    "lenVar": 40
   },
   "kernels_config": {
    "python": {
     "delete_cmd_postfix": "",
     "delete_cmd_prefix": "del ",
     "library": "var_list.py",
     "varRefreshCmd": "print(var_dic_list())"
    },
    "r": {
     "delete_cmd_postfix": ") ",
     "delete_cmd_prefix": "rm(",
     "library": "var_list.r",
     "varRefreshCmd": "cat(var_dic_list()) "
    }
   },
   "types_to_exclude": [
    "module",
    "function",
    "builtin_function_or_method",
    "instance",
    "_Feature"
   ],
   "window_display": false
  }
 },
 "nbformat": 4,
 "nbformat_minor": 4
}
