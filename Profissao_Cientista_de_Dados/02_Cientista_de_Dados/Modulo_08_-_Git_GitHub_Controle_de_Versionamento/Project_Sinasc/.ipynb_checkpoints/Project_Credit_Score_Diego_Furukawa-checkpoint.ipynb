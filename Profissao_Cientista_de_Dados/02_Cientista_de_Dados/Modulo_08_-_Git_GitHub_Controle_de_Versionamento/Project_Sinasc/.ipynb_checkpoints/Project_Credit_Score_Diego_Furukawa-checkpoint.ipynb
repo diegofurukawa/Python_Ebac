{
 "cells": [
  {
   "cell_type": "markdown",
   "metadata": {},
   "source": [
    "<img src=\"https://raw.githubusercontent.com/andre-marcos-perez/ebac-course-utils/main/media/logo/newebac_logo_black_half.png\" alt=\"ebac-logo\">\n",
    "\n",
    "---\n",
    "\n",
    "# **Pratique** | Árvore de Classificação  \n",
    "## Caderno **Módulo 7 | Tarefa 2**<br>\n",
    "\n",
    "Notebook [Diego Furukawa](#eu)\n",
    "\n",
    "---"
   ]
  },
  {
   "cell_type": "markdown",
   "metadata": {},
   "source": [
    "# **Introdução**"
   ]
  },
  {
   "cell_type": "markdown",
   "metadata": {},
   "source": [
    "Neste módulo, vamos preparar a base de dados para que ela esteja adequada para análise e modelagem com a biblioteca scikit-learn, que será crucial para a nossa modelagem com árvores de classificação.\n",
    "\n",
    "A biblioteca scikit-learn é amplamente utilizada para tarefas de aprendizado de máquina em Python e oferece uma vasta gama de algoritmos e ferramentas para modelagem. No nosso caso, utilizaremos uma árvore de classificação, que é uma técnica poderosa para prever a categoria a que um dado pertence com base em seus atributos. A árvore de decisão divide os dados em subsets, criando uma estrutura em forma de árvore onde cada nó representa uma decisão baseada em uma característica dos dados.\n",
    "\n",
    "O objetivo é garantir que os dados estejam no formato adequado e explorar algumas características das variáveis. \n",
    "\n",
    "Vamos trabalhar com a base demo01.csv."
   ]
  },
  {
   "cell_type": "markdown",
   "metadata": {},
   "source": [
    "# 0. Índice dos Exercícios <a name=\"Contents\"></a>\n",
    "1. [Exercício 1: Carregue a Base e Avalie](#exerc_01)\n",
    "2. [Exercício 2: Monte o Metadado](#exerc_02)\n",
    "3. [Exercício 3: Crie Variáveis Dummy](#exerc_03)\n",
    "4. [Exercício 4: Análise de Variáveis](#exerc_04)\n",
    "5. [Exercício 5: Salve a Base](#exerc_05)\n"
   ]
  },
  {
   "cell_type": "markdown",
   "metadata": {},
   "source": [
    "# 1. Exercício 1: Carregue a Base e Avalie <a name=\"exerc_01\"></a>\n",
    "\n",
    "<div style=\"text-align: right\"\n",
    "     \n",
    "[Voltar ao índice](#Contents)"
   ]
  },
  {
   "cell_type": "markdown",
   "metadata": {},
   "source": [
    "Antes de iniciar qualquer modelagem, é essencial entender a estrutura dos dados. Este passo nos ajudará a identificar variáveis importantes, tipos de dados e possíveis problemas com os dados, como valores faltantes.\n",
    "\n",
    "* Em resumo: \n",
    "\n",
    "    * **Variáveis:** Identifique as variáveis presentes na base de dados.<br>\n",
    "\n",
    "    * **Tipos de Dados:** Verifique os tipos de dados de cada variável para garantir que estão corretos e prontos para análise.<br>\n",
    "\n",
    "    * **Quantidade de Missings:** Conte o número de valores ausentes em cada variável para entender se há necessidade de tratamento.<br>\n",
    "\n",
    "    * **Distribuição da Variável Resposta (mau):** Analise a distribuição da variável resposta para avaliar o equilíbrio entre as classes.\n",
    "\n",
    "> **Dicas:**\n",
    "    >>Use o método pd.read_csv() para carregar o arquivo CSV.<br>\n",
    "    >>Examine as variáveis e tipos de dados com df.info().<br>\n",
    "    >>Verifique a quantidade de valores faltantes com df.isnull().sum().<br>\n",
    "    >>Analise a distribuição da variável resposta (mau) com df['mau'].value_counts()\n"
   ]
  },
  {
   "cell_type": "code",
   "execution_count": null,
   "metadata": {},
   "outputs": [],
   "source": []
  }
 ],
 "metadata": {
  "kernelspec": {
   "display_name": "Python 3 (ipykernel)",
   "language": "python",
   "name": "python3"
  },
  "language_info": {
   "codemirror_mode": {
    "name": "ipython",
    "version": 3
   },
   "file_extension": ".py",
   "mimetype": "text/x-python",
   "name": "python",
   "nbconvert_exporter": "python",
   "pygments_lexer": "ipython3",
   "version": "3.12.4"
  }
 },
 "nbformat": 4,
 "nbformat_minor": 4
}
