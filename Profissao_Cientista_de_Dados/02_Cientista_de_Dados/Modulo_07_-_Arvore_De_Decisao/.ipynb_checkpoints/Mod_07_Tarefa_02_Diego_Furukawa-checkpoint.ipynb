{
 "cells": [
  {
   "cell_type": "markdown",
   "metadata": {},
   "source": [
    "<img src=\"https://raw.githubusercontent.com/andre-marcos-perez/ebac-course-utils/main/media/logo/newebac_logo_black_half.png\" alt=\"ebac-logo\">\n",
    "\n",
    "---\n",
    "\n",
    "# **Pratique** | Árvore de Classificação  \n",
    "## Caderno **Módulo 7 | Tarefa 2**<br>\n",
    "\n",
    "Notebook [Diego Furukawa](#eu)\n",
    "\n",
    "---"
   ]
  },
  {
   "cell_type": "markdown",
   "metadata": {},
   "source": [
    "# **Introdução**"
   ]
  },
  {
   "cell_type": "markdown",
   "metadata": {},
   "source": [
    "Neste módulo, vamos preparar a base de dados para que ela esteja adequada para análise e modelagem com a biblioteca scikit-learn, que será crucial para a nossa modelagem com árvores de classificação.\n",
    "\n",
    "A biblioteca scikit-learn é amplamente utilizada para tarefas de aprendizado de máquina em Python e oferece uma vasta gama de algoritmos e ferramentas para modelagem. No nosso caso, utilizaremos uma árvore de classificação, que é uma técnica poderosa para prever a categoria a que um dado pertence com base em seus atributos. A árvore de decisão divide os dados em subsets, criando uma estrutura em forma de árvore onde cada nó representa uma decisão baseada em uma característica dos dados.\n",
    "\n",
    "O objetivo é garantir que os dados estejam no formato adequado e explorar algumas características das variáveis. \n",
    "\n",
    "Vamos trabalhar com a base demo01.csv."
   ]
  },
  {
   "cell_type": "markdown",
   "metadata": {},
   "source": [
    "# 0. Índice dos Exercícios <a name=\"Contents\"></a>\n",
    "1. [Exercício 1: Carregue a base e garanta que a base está como deveria](#exerc_01)\n",
    "2. [Exercício 2: Vamos para o Modelo](#exerc_02)\n",
    "3. [Exercício 3: Vamos avaliar o modelo na base de testes](#exerc_03)"
   ]
  },
  {
   "cell_type": "markdown",
   "metadata": {},
   "source": [
    "# 1. Exercício 1: Carregue a base e garanta que a base está como deveria <a name=\"exerc_01\"></a>\n",
    "\n",
    "<div style=\"text-align: right\"\n",
    "     \n",
    "[Voltar ao índice](#Contents)"
   ]
  },
  {
   "cell_type": "markdown",
   "metadata": {},
   "source": [
    "Considere a base que você ajustou na lição passada. Carregue-a. Caso ainda haja alguma pendência, ajuste - lembre-se de que o scikitlearn não recebe variáveis em formato string, somente numéricas, e não aceita '*missings*'. \n",
    "\n",
    "- Separe 70% da base para treinamento e 30% para validação. Cada uma dessas partes terá dois objetos, um armazenando a variável resposta ```mau```e outro armazenando as variáveis explicativas (lembrando: sem variáveis string, já com as dummies).\n"
   ]
  },
  {
   "cell_type": "code",
   "execution_count": null,
   "metadata": {},
   "outputs": [],
   "source": []
  },
  {
   "cell_type": "markdown",
   "metadata": {},
   "source": [
    "# 2. Exercício 2: Vamos para o Modelo <a name=\"exerc_02\"></a>\n",
    "\n",
    "<div style=\"text-align: right\"\n",
    "     \n",
    "[Voltar ao índice](#Contents)"
   ]
  },
  {
   "cell_type": "markdown",
   "metadata": {},
   "source": [
    "1. Defina um objeto com a função da árvore de decisão vista em aula.\n",
    "2. Treine o modelo com os dados que você separou para treinamento.\n",
    "3. Visualize a árvore. Talvez você queira aumentar um pouco a figura.\n",
    "4. Produza uma visualização da matriz de classificação (ou matriz de confusão) - coloque os rótulos como \"aprovados\" e \"reprovados\" - pois afinal de contas, são essas as decisões que se podem tomar com propostas de crédito.\n",
    "5. Calcule a acurácia na base de treinamento"
   ]
  },
  {
   "cell_type": "code",
   "execution_count": null,
   "metadata": {},
   "outputs": [],
   "source": []
  },
  {
   "cell_type": "markdown",
   "metadata": {},
   "source": [
    "# 3. Exercício 3: Vamos avaliar o modelo na base de testes <a name=\"exerc_03\"></a>\n",
    "\n",
    "<div style=\"text-align: right\"\n",
    "     \n",
    "[Voltar ao índice](#Contents)"
   ]
  },
  {
   "cell_type": "markdown",
   "metadata": {},
   "source": [
    "1. Classifique a base de teste de acordo com a árvore que você treinou no item 2.\n",
    "2. Produza a visualização da matriz de confusão para a base de teste.\n",
    "3. Calcule a acurácia da base de teste. Compare com a acurácia da base de treinamento.\n",
    "4. Treine uma nova árvore com número mínimo de observações por folha de 5 e máximo de profundidade de 10. Use o random_state = 123. Avalie a matriz de classificação. Observe a distribuição da predição - qual a proporção de proponentes foram classificados como 'maus'?\n",
    "5. Como ficaria a acurácia se você classificasse todos os contratos como 'bons'?"
   ]
  },
  {
   "cell_type": "code",
   "execution_count": null,
   "metadata": {},
   "outputs": [],
   "source": []
  }
 ],
 "metadata": {
  "kernelspec": {
   "display_name": "Python 3 (ipykernel)",
   "language": "python",
   "name": "python3"
  },
  "language_info": {
   "codemirror_mode": {
    "name": "ipython",
    "version": 3
   },
   "file_extension": ".py",
   "mimetype": "text/x-python",
   "name": "python",
   "nbconvert_exporter": "python",
   "pygments_lexer": "ipython3",
   "version": "3.12.4"
  }
 },
 "nbformat": 4,
 "nbformat_minor": 4
}
