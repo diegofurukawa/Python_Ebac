{
 "cells": [
  {
   "cell_type": "markdown",
   "metadata": {},
   "source": [
    "<img src=\"https://raw.githubusercontent.com/andre-marcos-perez/ebac-course-utils/main/media/logo/newebac_logo_black_half.png\" alt=\"ebac-logo\">\n",
    "\n",
    "---\n",
    "\n",
    "# **Pratique** | Árvore de Classificação  \n",
    "## Caderno **Módulo 7 | Tarefa 1**<br>\n",
    "\n",
    "Notebook [Alexandre Camargo](#eu)\n",
    "\n",
    "---"
   ]
  },
  {
   "cell_type": "markdown",
   "metadata": {},
   "source": [
    "# **Introdução**"
   ]
  },
  {
   "cell_type": "markdown",
   "metadata": {},
   "source": [
    "Neste módulo, vamos preparar a base de dados para que ela esteja adequada para análise e modelagem com a biblioteca scikit-learn, que será crucial para a nossa modelagem com árvores de classificação.\n",
    "\n",
    "A biblioteca scikit-learn é amplamente utilizada para tarefas de aprendizado de máquina em Python e oferece uma vasta gama de algoritmos e ferramentas para modelagem. No nosso caso, utilizaremos uma árvore de classificação, que é uma técnica poderosa para prever a categoria a que um dado pertence com base em seus atributos. A árvore de decisão divide os dados em subsets, criando uma estrutura em forma de árvore onde cada nó representa uma decisão baseada em uma característica dos dados.\n",
    "\n",
    "O objetivo é garantir que os dados estejam no formato adequado e explorar algumas características das variáveis. \n",
    "\n",
    "Vamos trabalhar com a base demo01.csv."
   ]
  },
  {
   "cell_type": "markdown",
   "metadata": {},
   "source": [
    "### **Exercício 1: Carregue a Base e Avalie**\n"
   ]
  },
  {
   "cell_type": "markdown",
   "metadata": {},
   "source": [
    "Antes de iniciar qualquer modelagem, é essencial entender a estrutura dos dados. Este passo nos ajudará a identificar variáveis importantes, tipos de dados e possíveis problemas com os dados, como valores faltantes.\n",
    "\n",
    "* Em resumo: \n",
    "\n",
    "    * **Variáveis:** Identifique as variáveis presentes na base de dados.<br>\n",
    "\n",
    "    * **Tipos de Dados:** Verifique os tipos de dados de cada variável para garantir que estão corretos e prontos para análise.<br>\n",
    "\n",
    "    * **Quantidade de Missings:** Conte o número de valores ausentes em cada variável para entender se há necessidade de tratamento.<br>\n",
    "\n",
    "    * **Distribuição da Variável Resposta (mau):** Analise a distribuição da variável resposta para avaliar o equilíbrio entre as classes.\n",
    "\n",
    "> **Dicas:**\n",
    "    >>Use o método pd.read_csv() para carregar o arquivo CSV.<br>\n",
    "    >>Examine as variáveis e tipos de dados com df.info().<br>\n",
    "    >>Verifique a quantidade de valores faltantes com df.isnull().sum().<br>\n",
    "    >>Analise a distribuição da variável resposta (mau) com df['mau'].value_counts()\n"
   ]
  },
  {
   "cell_type": "code",
   "execution_count": 2,
   "metadata": {},
   "outputs": [],
   "source": [
    "# Seu código aqui"
   ]
  },
  {
   "cell_type": "markdown",
   "metadata": {},
   "source": [
    "\n",
    "### **Exercício 2: Monte o Metadado**\n"
   ]
  },
  {
   "cell_type": "markdown",
   "metadata": {},
   "source": [
    "Criar um metadado ajuda a documentar as características das variáveis e é útil para entender a estrutura dos dados antes da modelagem. Este passo nos permitirá saber quantas categorias cada variável possui e facilitará a criação de variáveis dummy.\n",
    "\n",
    "\n",
    "* Crie um DataFrame com os Nomes e Tipos de Dados: Construa um DataFrame que liste o nome e o tipo de dados de cada variável.\n",
    "\n",
    "* Adicione a Coluna \"qtd_categorias\":\n",
    "    - Inicie uma lista vazia.\n",
    "    - Faça um loop para contar o número de categorias de cada variável.\n",
    "    - Adicione essas informações à lista.\n",
    "    - Atribua essa lista como uma nova coluna no DataFrame.\n"
   ]
  },
  {
   "cell_type": "code",
   "execution_count": 3,
   "metadata": {},
   "outputs": [],
   "source": [
    "# Seu código aqui"
   ]
  },
  {
   "cell_type": "markdown",
   "metadata": {},
   "source": [
    "\n",
    "### **Exercício 3: Crie Variáveis Dummy**\n"
   ]
  },
  {
   "cell_type": "markdown",
   "metadata": {},
   "source": [
    "Variáveis qualitativas precisam ser convertidas em variáveis dummy (ou one-hot encoded) para serem utilizadas em modelos de machine learning. \n",
    "Este passo garante que todas as variáveis categóricas estejam no formato apropriado para scikit-learn.\n",
    "\n",
    "Logo, aqui as etapas consistem em: \n",
    "\n",
    "* Criação de Variáveis Dummy: Converta variáveis qualitativas em formato numérico. \n",
    "\n",
    "* Para variáveis categóricas que não são binárias, utilize o método pd.get_dummies() para criar colunas de dummy.\n",
    "\n",
    "* DataFrame para o scikit-learn: Crie um DataFrame apenas com variáveis numéricas, eliminando as variáveis de tipo str e mantendo suas versões dummy.\n",
    "\n",
    "> **Dica:**\n",
    "    >> Utilize pd.get_dummies() para converter variáveis qualitativas em dummies.<br>\n",
    "    >> Elimine variáveis do tipo str do DataFrame original e mantenha apenas suas versões dummy.<br>\n",
    "    >> Verifique se todas as variáveis numéricas e dummies estão no DataFrame resultante.\n"
   ]
  },
  {
   "cell_type": "code",
   "execution_count": 4,
   "metadata": {},
   "outputs": [],
   "source": [
    "# Seu código aqui"
   ]
  },
  {
   "cell_type": "markdown",
   "metadata": {},
   "source": [
    "\n",
    "### **Exercício 4: Análise de Variáveis**\n",
    "\n",
    "Comparar variáveis qualitativas pode ajudar a identificar quais delas têm mais impacto na variável resposta. Nesta etapa, faremos uma análise simples para entender a relação entre duas variáveis e a variável resposta.\n",
    "\n",
    "Uma forma para isso seria realizar uma tabela cruzada.\n",
    "\n",
    "* Tabela Cruzada: Compare as variáveis possui_email e posse_de_veiculo para determinar qual delas é mais poderosa na previsão de mau = 1. \n",
    "\n"
   ]
  },
  {
   "cell_type": "code",
   "execution_count": 5,
   "metadata": {},
   "outputs": [],
   "source": [
    "# Seu código aqui"
   ]
  },
  {
   "cell_type": "markdown",
   "metadata": {},
   "source": [
    "\n",
    "### **Exercício 5: Salve a Base**\n"
   ]
  },
  {
   "cell_type": "markdown",
   "metadata": {},
   "source": [
    "Após preparar a base de dados, é importante salvá-la para uso futuro em modelagem e análise. Garantir que todos os passos anteriores estejam completos antes de salvar a base ajudará a evitar problemas futuros.\n",
    "\n",
    "* Os passos consiste em\n",
    "\n",
    "    * Salvar a Base: Após realizar os pré-processamentos, salve o DataFrame preparado. \n",
    "\n",
    "\n",
    "Este arquivo será utilizado posteriormente para modelagem com scikit-learn e análise adicional.\n",
    "\n",
    "Essa tarefa é crucial para garantir que a base esteja bem estruturada e adequada para a modelagem com árvores de decisão, permitindo uma análise eficaz e assertiva dos dados.\n",
    "\n",
    "> **Dica:** \n",
    "    >> Use o método df.to_csv() para salvar a base de dados processada.<br>\n",
    "    >> Verifique o nome do arquivo e o local onde a base será salva para garantir que esteja acessível para futuras etapas do módulo."
   ]
  },
  {
   "cell_type": "code",
   "execution_count": 6,
   "metadata": {},
   "outputs": [],
   "source": [
    "# Seu código aqui"
   ]
  }
 ],
 "metadata": {
  "kernelspec": {
   "display_name": "base",
   "language": "python",
   "name": "python3"
  },
  "language_info": {
   "codemirror_mode": {
    "name": "ipython",
    "version": 3
   },
   "file_extension": ".py",
   "mimetype": "text/x-python",
   "name": "python",
   "nbconvert_exporter": "python",
   "pygments_lexer": "ipython3",
   "version": "3.12.4"
  }
 },
 "nbformat": 4,
 "nbformat_minor": 2
}
