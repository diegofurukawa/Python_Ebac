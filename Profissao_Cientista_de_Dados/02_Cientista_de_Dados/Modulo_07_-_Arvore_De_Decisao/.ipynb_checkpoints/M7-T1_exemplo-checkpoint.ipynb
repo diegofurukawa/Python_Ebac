{
 "cells": [
  {
   "cell_type": "markdown",
   "metadata": {},
   "source": [
    "<img src=\"https://raw.githubusercontent.com/andre-marcos-perez/ebac-course-utils/main/media/logo/newebac_logo_black_half.png\" alt=\"ebac-logo\">\n",
    "\n",
    "---\n",
    "\n",
    "# **Pratique** | Árvore de Classificação  \n",
    "## Caderno **Módulo 7 | Tarefa 1**<br>\n",
    "\n",
    "Notebook [Diego Furukawa](#eu)\n",
    "\n",
    "---"
   ]
  },
  {
   "cell_type": "markdown",
   "metadata": {},
   "source": [
    "# **Introdução**"
   ]
  },
  {
   "cell_type": "markdown",
   "metadata": {},
   "source": [
    "Neste módulo, vamos preparar a base de dados para que ela esteja adequada para análise e modelagem com a biblioteca scikit-learn, que será crucial para a nossa modelagem com árvores de classificação.\n",
    "\n",
    "A biblioteca scikit-learn é amplamente utilizada para tarefas de aprendizado de máquina em Python e oferece uma vasta gama de algoritmos e ferramentas para modelagem. No nosso caso, utilizaremos uma árvore de classificação, que é uma técnica poderosa para prever a categoria a que um dado pertence com base em seus atributos. A árvore de decisão divide os dados em subsets, criando uma estrutura em forma de árvore onde cada nó representa uma decisão baseada em uma característica dos dados.\n",
    "\n",
    "O objetivo é garantir que os dados estejam no formato adequado e explorar algumas características das variáveis. \n",
    "\n",
    "Vamos trabalhar com a base demo01.csv."
   ]
  },
  {
   "cell_type": "markdown",
   "metadata": {},
   "source": [
    "# 0. Índice dos Exercícios <a name=\"Contents\"></a>\n",
    "1. [Exercício 1: Carregue a Base e Avalie](#exerc_01)\n",
    "2. [Exercício 2: Monte o Metadado](#exerc_02)\n",
    "3. [Exercício 3: Crie Variáveis Dummy](#exerc_03)\n",
    "4. [Exercício 4: Análise de Variáveis](#exerc_04)\n",
    "5. [Exercício 5: Salve a Base](#exerc_05)\n"
   ]
  },
  {
   "cell_type": "markdown",
   "metadata": {},
   "source": [
    "# 1. Exercício 1: Carregue a Base e Avalie <a name=\"exerc_01\"></a>\n",
    "\n",
    "<div style=\"text-align: right\"\n",
    "     \n",
    "[Voltar ao índice](#Contents)"
   ]
  },
  {
   "cell_type": "markdown",
   "metadata": {},
   "source": [
    "Antes de iniciar qualquer modelagem, é essencial entender a estrutura dos dados. Este passo nos ajudará a identificar variáveis importantes, tipos de dados e possíveis problemas com os dados, como valores faltantes.\n",
    "\n",
    "* Em resumo: \n",
    "\n",
    "    * **Variáveis:** Identifique as variáveis presentes na base de dados.<br>\n",
    "\n",
    "    * **Tipos de Dados:** Verifique os tipos de dados de cada variável para garantir que estão corretos e prontos para análise.<br>\n",
    "\n",
    "    * **Quantidade de Missings:** Conte o número de valores ausentes em cada variável para entender se há necessidade de tratamento.<br>\n",
    "\n",
    "    * **Distribuição da Variável Resposta (mau):** Analise a distribuição da variável resposta para avaliar o equilíbrio entre as classes.\n",
    "\n",
    "> **Dicas:**\n",
    "    >>Use o método pd.read_csv() para carregar o arquivo CSV.<br>\n",
    "    >>Examine as variáveis e tipos de dados com df.info().<br>\n",
    "    >>Verifique a quantidade de valores faltantes com df.isnull().sum().<br>\n",
    "    >>Analise a distribuição da variável resposta (mau) com df['mau'].value_counts()\n"
   ]
  },
  {
   "cell_type": "code",
   "execution_count": 13,
   "metadata": {},
   "outputs": [
    {
     "name": "stdout",
     "output_type": "stream",
     "text": [
      "<class 'pandas.core.frame.DataFrame'>\n",
      "RangeIndex: 16650 entries, 0 to 16649\n",
      "Data columns (total 16 columns):\n",
      " #   Column                 Non-Null Count  Dtype  \n",
      "---  ------                 --------------  -----  \n",
      " 0   sexo                   16650 non-null  object \n",
      " 1   posse_de_veiculo       16650 non-null  object \n",
      " 2   posse_de_imovel        16650 non-null  object \n",
      " 3   qtd_filhos             16650 non-null  int64  \n",
      " 4   tipo_renda             16650 non-null  object \n",
      " 5   educacao               16650 non-null  object \n",
      " 6   estado_civil           16650 non-null  object \n",
      " 7   tipo_residencia        16650 non-null  object \n",
      " 8   idade                  16650 non-null  float64\n",
      " 9   tempo_emprego          16650 non-null  float64\n",
      " 10  possui_celular         16650 non-null  int64  \n",
      " 11  possui_fone_comercial  16650 non-null  int64  \n",
      " 12  possui_fone            16650 non-null  int64  \n",
      " 13  possui_email           16650 non-null  int64  \n",
      " 14  qt_pessoas_residencia  16650 non-null  float64\n",
      " 15  mau                    16650 non-null  bool   \n",
      "dtypes: bool(1), float64(3), int64(5), object(7)\n",
      "memory usage: 1.9+ MB\n"
     ]
    }
   ],
   "source": [
    "# Seu código aqui\n",
    "\n",
    "# Importando Bibliotecas\n",
    "import numpy as np\n",
    "import pandas as pd\n",
    "import seaborn as sns\n",
    "\n",
    "#Carregando dataset / DataFrame defaut doinfo Seaborn\n",
    "credit_card_approval_prediction = pd.read_csv('demo01.csv')\n",
    "\n",
    "#Retornar as primeiras 5 linhas\n",
    "credit_card_approval_prediction.info()"
   ]
  },
  {
   "cell_type": "code",
   "execution_count": 8,
   "metadata": {},
   "outputs": [
    {
     "data": {
      "text/plain": [
       "sexo                     0\n",
       "posse_de_veiculo         0\n",
       "posse_de_imovel          0\n",
       "qtd_filhos               0\n",
       "tipo_renda               0\n",
       "educacao                 0\n",
       "estado_civil             0\n",
       "tipo_residencia          0\n",
       "idade                    0\n",
       "tempo_emprego            0\n",
       "possui_celular           0\n",
       "possui_fone_comercial    0\n",
       "possui_fone              0\n",
       "possui_email             0\n",
       "qt_pessoas_residencia    0\n",
       "mau                      0\n",
       "dtype: int64"
      ]
     },
     "execution_count": 8,
     "metadata": {},
     "output_type": "execute_result"
    }
   ],
   "source": [
    "# Quantidade de missings\n",
    "credit_card_approval_prediction.isnull().sum()"
   ]
  },
  {
   "cell_type": "code",
   "execution_count": 11,
   "metadata": {},
   "outputs": [
    {
     "data": {
      "text/plain": [
       "mau\n",
       "False    16260\n",
       "True       390\n",
       "Name: count, dtype: int64"
      ]
     },
     "execution_count": 11,
     "metadata": {},
     "output_type": "execute_result"
    }
   ],
   "source": [
    "# Analise a distribuição da variável resposta (mau)\n",
    "credit_card_approval_prediction['mau'].value_counts()"
   ]
  },
  {
   "cell_type": "markdown",
   "metadata": {},
   "source": [
    "# 2. Exercício 2: Monte o Metadado <a name=\"exerc_02\"></a>\n",
    "\n",
    "<div style=\"text-align: right\"\n",
    "     \n",
    "[Voltar ao índice](#Contents)"
   ]
  },
  {
   "cell_type": "markdown",
   "metadata": {},
   "source": [
    "Criar um metadado ajuda a documentar as características das variáveis e é útil para entender a estrutura dos dados antes da modelagem. Este passo nos permitirá saber quantas categorias cada variável possui e facilitará a criação de variáveis dummy.\n",
    "\n",
    "\n",
    "* Crie um DataFrame com os Nomes e Tipos de Dados: Construa um DataFrame que liste o nome e o tipo de dados de cada variável.\n",
    "\n",
    "* Adicione a Coluna \"qtd_categorias\":\n",
    "    - Inicie uma lista vazia.\n",
    "    - Faça um loop para contar o número de categorias de cada variável.\n",
    "    - Adicione essas informações à lista.\n",
    "    - Atribua essa lista como uma nova coluna no DataFrame.\n"
   ]
  },
  {
   "cell_type": "code",
   "execution_count": 39,
   "metadata": {},
   "outputs": [
    {
     "name": "stdout",
     "output_type": "stream",
     "text": [
      "Contagem de categorias na coluna sexo:\n",
      "sexo\n",
      "F    11201\n",
      "M     5449\n",
      "Name: count, dtype: int64\n",
      "\n",
      "Contagem de categorias na coluna posse_de_veiculo:\n",
      "posse_de_veiculo\n",
      "N    10178\n",
      "Y     6472\n",
      "Name: count, dtype: int64\n",
      "\n",
      "Contagem de categorias na coluna posse_de_imovel:\n",
      "posse_de_imovel\n",
      "Y    11176\n",
      "N     5474\n",
      "Name: count, dtype: int64\n",
      "\n",
      "Contagem de categorias na coluna qtd_filhos:\n",
      "qtd_filhos\n",
      "0     11486\n",
      "1      3393\n",
      "2      1552\n",
      "3       189\n",
      "4        24\n",
      "5         2\n",
      "14        2\n",
      "7         2\n",
      "Name: count, dtype: int64\n",
      "\n",
      "Contagem de categorias na coluna tipo_renda:\n",
      "tipo_renda\n",
      "Working                 8565\n",
      "Commercial associate    3826\n",
      "Pensioner               2800\n",
      "State servant           1451\n",
      "Student                    8\n",
      "Name: count, dtype: int64\n",
      "\n",
      "Contagem de categorias na coluna educacao:\n",
      "educacao\n",
      "Secondary / secondary special    11245\n",
      "Higher education                  4551\n",
      "Incomplete higher                  649\n",
      "Lower secondary                    188\n",
      "Academic degree                     17\n",
      "Name: count, dtype: int64\n",
      "\n",
      "Contagem de categorias na coluna estado_civil:\n",
      "estado_civil\n",
      "Married                 11680\n",
      "Single / not married     2035\n",
      "Civil marriage           1283\n",
      "Separated                 945\n",
      "Widow                     707\n",
      "Name: count, dtype: int64\n",
      "\n",
      "Contagem de categorias na coluna tipo_residencia:\n",
      "tipo_residencia\n",
      "House / apartment      14974\n",
      "With parents             738\n",
      "Municipal apartment      520\n",
      "Rented apartment         227\n",
      "Office apartment         120\n",
      "Co-op apartment           71\n",
      "Name: count, dtype: int64\n",
      "\n",
      "Contagem de categorias na coluna idade:\n",
      "idade\n",
      "34.728767    22\n",
      "40.183562    22\n",
      "41.479452    21\n",
      "37.041096    20\n",
      "45.939726    20\n",
      "             ..\n",
      "64.268493     1\n",
      "36.295890     1\n",
      "28.975342     1\n",
      "63.019178     1\n",
      "43.389041     1\n",
      "Name: count, Length: 5298, dtype: int64\n",
      "\n",
      "Contagem de categorias na coluna tempo_emprego:\n",
      "tempo_emprego\n",
      "-1000.665753    2793\n",
      " 4.216438         41\n",
      " 4.797260         29\n",
      " 6.934247         28\n",
      " 0.547945         28\n",
      "                ... \n",
      " 2.408219          1\n",
      " 14.331507         1\n",
      " 2.005479          1\n",
      " 8.095890          1\n",
      " 30.882192         1\n",
      "Name: count, Length: 3005, dtype: int64\n",
      "\n",
      "Contagem de categorias na coluna possui_celular:\n",
      "possui_celular\n",
      "1    16650\n",
      "Name: count, dtype: int64\n",
      "\n",
      "Contagem de categorias na coluna possui_fone_comercial:\n",
      "possui_fone_comercial\n",
      "0    12900\n",
      "1     3750\n",
      "Name: count, dtype: int64\n",
      "\n",
      "Contagem de categorias na coluna possui_fone:\n",
      "possui_fone\n",
      "0    11727\n",
      "1     4923\n",
      "Name: count, dtype: int64\n",
      "\n",
      "Contagem de categorias na coluna possui_email:\n",
      "possui_email\n",
      "0    15170\n",
      "1     1480\n",
      "Name: count, dtype: int64\n",
      "\n",
      "Contagem de categorias na coluna qt_pessoas_residencia:\n",
      "qt_pessoas_residencia\n",
      "2.0     9042\n",
      "1.0     3022\n",
      "3.0     2887\n",
      "4.0     1489\n",
      "5.0      180\n",
      "6.0       25\n",
      "15.0       2\n",
      "9.0        2\n",
      "7.0        1\n",
      "Name: count, dtype: int64\n",
      "\n",
      "Contagem de categorias na coluna mau:\n",
      "mau\n",
      "False    16260\n",
      "True       390\n",
      "Name: count, dtype: int64\n",
      "\n"
     ]
    }
   ],
   "source": [
    "# Seu código aqui\n",
    "\n",
    "# Criar um DataFrame com os nomes e tipos de dados\n",
    "new_dataframe = pd.DataFrame({\n",
    "    'Nome': credit_card_approval_prediction.columns,\n",
    "    'Tipo de Dados': credit_card_approval_prediction.dtypes\n",
    "})\n",
    "\n",
    "# Adicionar a coluna 'qtd_categorias'\n",
    "new_dataframe['qtd_categorias'] = new_dataframe.apply(lambda col: col.nunique())\n",
    "\n",
    "# Iniciar uma lista vazia\n",
    "lista_vazia = []\n",
    "\n",
    "# Adicionando informações do DataFrame à lista\n",
    "lista_vazia.append(new_dataframe)\n",
    "\n",
    "# Loop para contar o número de categorias de cada variável\n",
    "for column in credit_card_approval_prediction.columns:\n",
    "    print(f\"Contagem de categorias na coluna {column}:\")\n",
    "    print(credit_card_approval_prediction[column].value_counts())\n",
    "    print()"
   ]
  },
  {
   "cell_type": "markdown",
   "metadata": {},
   "source": [
    "# 3. Exercício 3: Crie Variáveis Dummy <a name=\"exerc_03\"></a>\n",
    "\n",
    "<div style=\"text-align: right\"\n",
    "     \n",
    "[Voltar ao índice](#Contents)"
   ]
  },
  {
   "cell_type": "markdown",
   "metadata": {},
   "source": [
    "Variáveis qualitativas precisam ser convertidas em variáveis dummy (ou one-hot encoded) para serem utilizadas em modelos de machine learning. \n",
    "Este passo garante que todas as variáveis categóricas estejam no formato apropriado para scikit-learn.\n",
    "\n",
    "Logo, aqui as etapas consistem em: \n",
    "\n",
    "* Criação de Variáveis Dummy: Converta variáveis qualitativas em formato numérico. \n",
    "\n",
    "* Para variáveis categóricas que não são binárias, utilize o método pd.get_dummies() para criar colunas de dummy.\n",
    "\n",
    "* DataFrame para o scikit-learn: Crie um DataFrame apenas com variáveis numéricas, eliminando as variáveis de tipo str e mantendo suas versões dummy.\n",
    "\n",
    "> **Dica:**\n",
    "    >> Utilize pd.get_dummies() para converter variáveis qualitativas em dummies.<br>\n",
    "    >> Elimine variáveis do tipo str do DataFrame original e mantenha apenas suas versões dummy.<br>\n",
    "    >> Verifique se todas as variáveis numéricas e dummies estão no DataFrame resultante.\n"
   ]
  },
  {
   "cell_type": "code",
   "execution_count": 4,
   "metadata": {},
   "outputs": [],
   "source": [
    "# Seu código aqui"
   ]
  },
  {
   "cell_type": "markdown",
   "metadata": {},
   "source": [
    "# 4. Exercício 4: Análise de Variáveis <a name=\"exerc_04\"></a>\n",
    "<div style=\"text-align: right\"\n",
    "    \n",
    "[Voltar ao índice](#Contents)"
   ]
  },
  {
   "cell_type": "markdown",
   "metadata": {},
   "source": [
    "\n",
    "Comparar variáveis qualitativas pode ajudar a identificar quais delas têm mais impacto na variável resposta. Nesta etapa, faremos uma análise simples para entender a relação entre duas variáveis e a variável resposta.\n",
    "\n",
    "Uma forma para isso seria realizar uma tabela cruzada.\n",
    "\n",
    "* Tabela Cruzada: Compare as variáveis possui_email e posse_de_veiculo para determinar qual delas é mais poderosa na previsão de mau = 1. \n",
    "\n"
   ]
  },
  {
   "cell_type": "code",
   "execution_count": 5,
   "metadata": {},
   "outputs": [],
   "source": [
    "# Seu código aqui"
   ]
  },
  {
   "cell_type": "markdown",
   "metadata": {},
   "source": [
    "# 5. Exercício 5: Salve a Base <a name=\"exerc_05\"></a>\n",
    "<div style=\"text-align: right\"\n",
    "\n",
    "[Voltar ao índice](#Contents)"
   ]
  },
  {
   "cell_type": "markdown",
   "metadata": {},
   "source": [
    "Após preparar a base de dados, é importante salvá-la para uso futuro em modelagem e análise. Garantir que todos os passos anteriores estejam completos antes de salvar a base ajudará a evitar problemas futuros.\n",
    "\n",
    "* Os passos consiste em\n",
    "\n",
    "    * Salvar a Base: Após realizar os pré-processamentos, salve o DataFrame preparado. \n",
    "\n",
    "\n",
    "Este arquivo será utilizado posteriormente para modelagem com scikit-learn e análise adicional.\n",
    "\n",
    "Essa tarefa é crucial para garantir que a base esteja bem estruturada e adequada para a modelagem com árvores de decisão, permitindo uma análise eficaz e assertiva dos dados.\n",
    "\n",
    "> **Dica:** \n",
    "    >> Use o método df.to_csv() para salvar a base de dados processada.<br>\n",
    "    >> Verifique o nome do arquivo e o local onde a base será salva para garantir que esteja acessível para futuras etapas do módulo."
   ]
  },
  {
   "cell_type": "code",
   "execution_count": 6,
   "metadata": {},
   "outputs": [],
   "source": [
    "# Seu código aqui"
   ]
  }
 ],
 "metadata": {
  "kernelspec": {
   "display_name": "Python 3 (ipykernel)",
   "language": "python",
   "name": "python3"
  },
  "language_info": {
   "codemirror_mode": {
    "name": "ipython",
    "version": 3
   },
   "file_extension": ".py",
   "mimetype": "text/x-python",
   "name": "python",
   "nbconvert_exporter": "python",
   "pygments_lexer": "ipython3",
   "version": "3.12.4"
  }
 },
 "nbformat": 4,
 "nbformat_minor": 4
}
