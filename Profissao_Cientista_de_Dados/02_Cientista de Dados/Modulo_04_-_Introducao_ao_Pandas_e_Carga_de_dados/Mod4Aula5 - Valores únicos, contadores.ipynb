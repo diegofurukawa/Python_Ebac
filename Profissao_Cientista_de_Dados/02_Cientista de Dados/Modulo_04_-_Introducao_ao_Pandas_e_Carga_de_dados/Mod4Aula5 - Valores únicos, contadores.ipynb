{
 "cells": [
  {
   "cell_type": "markdown",
   "metadata": {},
   "source": [
    "# Valores únicos, contadores"
   ]
  },
  {
   "cell_type": "code",
   "execution_count": 1,
   "metadata": {
    "ExecuteTime": {
     "end_time": "2021-05-23T21:32:12.442130Z",
     "start_time": "2021-05-23T21:32:12.038439Z"
    }
   },
   "outputs": [],
   "source": [
    "import pandas as pd"
   ]
  },
  {
   "cell_type": "markdown",
   "metadata": {},
   "source": [
    "## Aprovações do Sistema BNDES por UF\n",
    "link antigo: https://dados.gov.br/dataset/aprovacoes/resource/bbe8210d-e3b1-4db9-94c5-66cfc8ee2a0f\n",
    "\n",
    "link atual: https://dados.gov.br/dataset/aprovacoes/resource/08f7a11c-48e0-4d3e-9a75-d95641657ebf"
   ]
  },
  {
   "cell_type": "code",
   "execution_count": 2,
   "metadata": {
    "ExecuteTime": {
     "end_time": "2021-05-22T13:49:16.224345Z",
     "start_time": "2021-05-22T13:49:15.886498Z"
    },
    "scrolled": true
   },
   "outputs": [
    {
     "data": {
      "text/html": [
       "<div>\n",
       "<style scoped>\n",
       "    .dataframe tbody tr th:only-of-type {\n",
       "        vertical-align: middle;\n",
       "    }\n",
       "\n",
       "    .dataframe tbody tr th {\n",
       "        vertical-align: top;\n",
       "    }\n",
       "\n",
       "    .dataframe thead th {\n",
       "        text-align: right;\n",
       "    }\n",
       "</style>\n",
       "<table border=\"1\" class=\"dataframe\">\n",
       "  <thead>\n",
       "    <tr style=\"text-align: right;\">\n",
       "      <th></th>\n",
       "      <th>ano</th>\n",
       "      <th>mes</th>\n",
       "      <th>acre</th>\n",
       "      <th>amapa</th>\n",
       "      <th>amazonas</th>\n",
       "      <th>para</th>\n",
       "      <th>rondonia</th>\n",
       "      <th>roraima</th>\n",
       "      <th>tocantins</th>\n",
       "      <th>alagoas</th>\n",
       "      <th>...</th>\n",
       "      <th>minas_gerais</th>\n",
       "      <th>rio_de_janeiro</th>\n",
       "      <th>sao_paulo</th>\n",
       "      <th>parana</th>\n",
       "      <th>rio_grande_do_sul</th>\n",
       "      <th>santa_catarina</th>\n",
       "      <th>distrito_federal</th>\n",
       "      <th>goias</th>\n",
       "      <th>mato_grosso</th>\n",
       "      <th>mato_grosso_do_sul</th>\n",
       "    </tr>\n",
       "  </thead>\n",
       "  <tbody>\n",
       "    <tr>\n",
       "      <th>0</th>\n",
       "      <td>1995</td>\n",
       "      <td>1</td>\n",
       "      <td>0,41869679</td>\n",
       "      <td>0,0</td>\n",
       "      <td>2,23413839</td>\n",
       "      <td>1,84649181</td>\n",
       "      <td>1,04473767</td>\n",
       "      <td>0,0</td>\n",
       "      <td>0,43530234</td>\n",
       "      <td>3,90345966</td>\n",
       "      <td>...</td>\n",
       "      <td>24,21161259</td>\n",
       "      <td>121,27492154</td>\n",
       "      <td>160,95511135</td>\n",
       "      <td>44,50362458</td>\n",
       "      <td>37,59527024</td>\n",
       "      <td>35,30349192</td>\n",
       "      <td>1,9437482</td>\n",
       "      <td>8,34773228</td>\n",
       "      <td>16,27915326</td>\n",
       "      <td>10,26813495</td>\n",
       "    </tr>\n",
       "    <tr>\n",
       "      <th>1</th>\n",
       "      <td>1995</td>\n",
       "      <td>2</td>\n",
       "      <td>0,04578434</td>\n",
       "      <td>0,0</td>\n",
       "      <td>2,74517813</td>\n",
       "      <td>42,48085156</td>\n",
       "      <td>0,36960426</td>\n",
       "      <td>0,0</td>\n",
       "      <td>0,64214309</td>\n",
       "      <td>2,29334262</td>\n",
       "      <td>...</td>\n",
       "      <td>26,77981918</td>\n",
       "      <td>43,42129588</td>\n",
       "      <td>150,04287144</td>\n",
       "      <td>30,00488924</td>\n",
       "      <td>127,62421063</td>\n",
       "      <td>25,61771037</td>\n",
       "      <td>6,73717989</td>\n",
       "      <td>4,2283233</td>\n",
       "      <td>17,33613937</td>\n",
       "      <td>2,98495465</td>\n",
       "    </tr>\n",
       "    <tr>\n",
       "      <th>2</th>\n",
       "      <td>1995</td>\n",
       "      <td>3</td>\n",
       "      <td>0,58793111</td>\n",
       "      <td>0,0</td>\n",
       "      <td>4,25038413</td>\n",
       "      <td>7,07201709</td>\n",
       "      <td>1,88492287</td>\n",
       "      <td>0,07966938</td>\n",
       "      <td>2,90366427</td>\n",
       "      <td>22,91684798</td>\n",
       "      <td>...</td>\n",
       "      <td>40,38929874</td>\n",
       "      <td>79,26081391</td>\n",
       "      <td>195,14362719</td>\n",
       "      <td>67,2498400399999</td>\n",
       "      <td>79,49332923</td>\n",
       "      <td>61,3169039300001</td>\n",
       "      <td>4,32211726</td>\n",
       "      <td>17,28640648</td>\n",
       "      <td>40,58887985</td>\n",
       "      <td>15,20808378</td>\n",
       "    </tr>\n",
       "    <tr>\n",
       "      <th>3</th>\n",
       "      <td>1995</td>\n",
       "      <td>4</td>\n",
       "      <td>0,89306092</td>\n",
       "      <td>0,0</td>\n",
       "      <td>3,3856354</td>\n",
       "      <td>2,73554948</td>\n",
       "      <td>1,96426615</td>\n",
       "      <td>0,0</td>\n",
       "      <td>0,45580241</td>\n",
       "      <td>3,14556117</td>\n",
       "      <td>...</td>\n",
       "      <td>26,27111669</td>\n",
       "      <td>27,59569635</td>\n",
       "      <td>125,44047338</td>\n",
       "      <td>82,1440808699999</td>\n",
       "      <td>32,5009858</td>\n",
       "      <td>34,56431305</td>\n",
       "      <td>12,23890039</td>\n",
       "      <td>55,16413558</td>\n",
       "      <td>27,22989044</td>\n",
       "      <td>9,6569057</td>\n",
       "    </tr>\n",
       "    <tr>\n",
       "      <th>4</th>\n",
       "      <td>1995</td>\n",
       "      <td>5</td>\n",
       "      <td>0,0</td>\n",
       "      <td>0,0</td>\n",
       "      <td>7,20134534</td>\n",
       "      <td>2,85948656</td>\n",
       "      <td>1,7582694</td>\n",
       "      <td>0,27605299</td>\n",
       "      <td>1,27020107</td>\n",
       "      <td>1,558083</td>\n",
       "      <td>...</td>\n",
       "      <td>35,18044643</td>\n",
       "      <td>63,30204158</td>\n",
       "      <td>222,39367098</td>\n",
       "      <td>81,67998936</td>\n",
       "      <td>49,01467171</td>\n",
       "      <td>39,63988675</td>\n",
       "      <td>4,58714604</td>\n",
       "      <td>33,5075155</td>\n",
       "      <td>14,40645992</td>\n",
       "      <td>6,61725569</td>\n",
       "    </tr>\n",
       "    <tr>\n",
       "      <th>...</th>\n",
       "      <td>...</td>\n",
       "      <td>...</td>\n",
       "      <td>...</td>\n",
       "      <td>...</td>\n",
       "      <td>...</td>\n",
       "      <td>...</td>\n",
       "      <td>...</td>\n",
       "      <td>...</td>\n",
       "      <td>...</td>\n",
       "      <td>...</td>\n",
       "      <td>...</td>\n",
       "      <td>...</td>\n",
       "      <td>...</td>\n",
       "      <td>...</td>\n",
       "      <td>...</td>\n",
       "      <td>...</td>\n",
       "      <td>...</td>\n",
       "      <td>...</td>\n",
       "      <td>...</td>\n",
       "      <td>...</td>\n",
       "      <td>...</td>\n",
       "    </tr>\n",
       "    <tr>\n",
       "      <th>307</th>\n",
       "      <td>2020</td>\n",
       "      <td>8</td>\n",
       "      <td>1,96955937</td>\n",
       "      <td>0,78195253</td>\n",
       "      <td>14,9632287</td>\n",
       "      <td>94,20147101</td>\n",
       "      <td>43,2676184</td>\n",
       "      <td>6,49597807</td>\n",
       "      <td>55,262496</td>\n",
       "      <td>6,56646858</td>\n",
       "      <td>...</td>\n",
       "      <td>683,67365639</td>\n",
       "      <td>72,35308076</td>\n",
       "      <td>1527,77989016</td>\n",
       "      <td>1116,42918963</td>\n",
       "      <td>853,666049370001</td>\n",
       "      <td>708,855122160001</td>\n",
       "      <td>14,38612963</td>\n",
       "      <td>223,80287164</td>\n",
       "      <td>497,6462012</td>\n",
       "      <td>262,26895682</td>\n",
       "    </tr>\n",
       "    <tr>\n",
       "      <th>308</th>\n",
       "      <td>2020</td>\n",
       "      <td>9</td>\n",
       "      <td>3,9789796</td>\n",
       "      <td>0,74243945</td>\n",
       "      <td>28,64017534</td>\n",
       "      <td>80,7417482099999</td>\n",
       "      <td>51,41516905</td>\n",
       "      <td>6,27726823</td>\n",
       "      <td>58,49852826</td>\n",
       "      <td>11,91756637</td>\n",
       "      <td>...</td>\n",
       "      <td>604,110490099999</td>\n",
       "      <td>225,50866549</td>\n",
       "      <td>950,363674029999</td>\n",
       "      <td>1146,41492553</td>\n",
       "      <td>897,384029759998</td>\n",
       "      <td>662,752704119999</td>\n",
       "      <td>28,04947007</td>\n",
       "      <td>258,22237166</td>\n",
       "      <td>699,85520215</td>\n",
       "      <td>176,87090708</td>\n",
       "    </tr>\n",
       "    <tr>\n",
       "      <th>309</th>\n",
       "      <td>2020</td>\n",
       "      <td>10</td>\n",
       "      <td>3,82194154</td>\n",
       "      <td>0,65732382</td>\n",
       "      <td>17,85757508</td>\n",
       "      <td>77,36691137</td>\n",
       "      <td>72,80403463</td>\n",
       "      <td>7,16302393</td>\n",
       "      <td>114,86971533</td>\n",
       "      <td>8,97545479</td>\n",
       "      <td>...</td>\n",
       "      <td>720,80998624</td>\n",
       "      <td>185,4235288</td>\n",
       "      <td>1716,63007791</td>\n",
       "      <td>600,79226767</td>\n",
       "      <td>627,06545899</td>\n",
       "      <td>780,99939366</td>\n",
       "      <td>27,05306931</td>\n",
       "      <td>268,62286475</td>\n",
       "      <td>665,78916594</td>\n",
       "      <td>188,24342723</td>\n",
       "    </tr>\n",
       "    <tr>\n",
       "      <th>310</th>\n",
       "      <td>2020</td>\n",
       "      <td>11</td>\n",
       "      <td>0,30310166</td>\n",
       "      <td>0,836673</td>\n",
       "      <td>7,47258067</td>\n",
       "      <td>51,4830944</td>\n",
       "      <td>25,93119835</td>\n",
       "      <td>1,54110171</td>\n",
       "      <td>40,42044047</td>\n",
       "      <td>7,59910934</td>\n",
       "      <td>...</td>\n",
       "      <td>423,23875485</td>\n",
       "      <td>4028,53590761</td>\n",
       "      <td>3168,42092433001</td>\n",
       "      <td>389,08657384</td>\n",
       "      <td>398,152707740001</td>\n",
       "      <td>289,72314953</td>\n",
       "      <td>27,65835332</td>\n",
       "      <td>196,35924403</td>\n",
       "      <td>395,17828572</td>\n",
       "      <td>106,40769098</td>\n",
       "    </tr>\n",
       "    <tr>\n",
       "      <th>311</th>\n",
       "      <td>2020</td>\n",
       "      <td>12</td>\n",
       "      <td>100,33142252</td>\n",
       "      <td>4,7832524</td>\n",
       "      <td>11,51328239</td>\n",
       "      <td>1406,59115668</td>\n",
       "      <td>213,1874001</td>\n",
       "      <td>4,18119073</td>\n",
       "      <td>191,03491711</td>\n",
       "      <td>2,60635677</td>\n",
       "      <td>...</td>\n",
       "      <td>431,51980943</td>\n",
       "      <td>181,13371633</td>\n",
       "      <td>5720,38567148</td>\n",
       "      <td>907,74755335</td>\n",
       "      <td>335,18621487</td>\n",
       "      <td>382,64761466</td>\n",
       "      <td>24,52821208</td>\n",
       "      <td>759,18826411</td>\n",
       "      <td>750,70243929</td>\n",
       "      <td>354,96795443</td>\n",
       "    </tr>\n",
       "  </tbody>\n",
       "</table>\n",
       "<p>312 rows × 29 columns</p>\n",
       "</div>"
      ],
      "text/plain": [
       "      ano  mes          acre       amapa     amazonas              para  \\\n",
       "0    1995    1    0,41869679         0,0   2,23413839        1,84649181   \n",
       "1    1995    2    0,04578434         0,0   2,74517813       42,48085156   \n",
       "2    1995    3    0,58793111         0,0   4,25038413        7,07201709   \n",
       "3    1995    4    0,89306092         0,0    3,3856354        2,73554948   \n",
       "4    1995    5           0,0         0,0   7,20134534        2,85948656   \n",
       "..    ...  ...           ...         ...          ...               ...   \n",
       "307  2020    8    1,96955937  0,78195253   14,9632287       94,20147101   \n",
       "308  2020    9     3,9789796  0,74243945  28,64017534  80,7417482099999   \n",
       "309  2020   10    3,82194154  0,65732382  17,85757508       77,36691137   \n",
       "310  2020   11    0,30310166    0,836673   7,47258067        51,4830944   \n",
       "311  2020   12  100,33142252   4,7832524  11,51328239     1406,59115668   \n",
       "\n",
       "        rondonia     roraima     tocantins      alagoas  ...  \\\n",
       "0     1,04473767         0,0    0,43530234   3,90345966  ...   \n",
       "1     0,36960426         0,0    0,64214309   2,29334262  ...   \n",
       "2     1,88492287  0,07966938    2,90366427  22,91684798  ...   \n",
       "3     1,96426615         0,0    0,45580241   3,14556117  ...   \n",
       "4      1,7582694  0,27605299    1,27020107     1,558083  ...   \n",
       "..           ...         ...           ...          ...  ...   \n",
       "307   43,2676184  6,49597807     55,262496   6,56646858  ...   \n",
       "308  51,41516905  6,27726823   58,49852826  11,91756637  ...   \n",
       "309  72,80403463  7,16302393  114,86971533   8,97545479  ...   \n",
       "310  25,93119835  1,54110171   40,42044047   7,59910934  ...   \n",
       "311  213,1874001  4,18119073  191,03491711   2,60635677  ...   \n",
       "\n",
       "         minas_gerais rio_de_janeiro         sao_paulo            parana  \\\n",
       "0         24,21161259   121,27492154      160,95511135       44,50362458   \n",
       "1         26,77981918    43,42129588      150,04287144       30,00488924   \n",
       "2         40,38929874    79,26081391      195,14362719  67,2498400399999   \n",
       "3         26,27111669    27,59569635      125,44047338  82,1440808699999   \n",
       "4         35,18044643    63,30204158      222,39367098       81,67998936   \n",
       "..                ...            ...               ...               ...   \n",
       "307      683,67365639    72,35308076     1527,77989016     1116,42918963   \n",
       "308  604,110490099999   225,50866549  950,363674029999     1146,41492553   \n",
       "309      720,80998624    185,4235288     1716,63007791      600,79226767   \n",
       "310      423,23875485  4028,53590761  3168,42092433001      389,08657384   \n",
       "311      431,51980943   181,13371633     5720,38567148      907,74755335   \n",
       "\n",
       "    rio_grande_do_sul    santa_catarina distrito_federal         goias  \\\n",
       "0         37,59527024       35,30349192        1,9437482    8,34773228   \n",
       "1        127,62421063       25,61771037       6,73717989     4,2283233   \n",
       "2         79,49332923  61,3169039300001       4,32211726   17,28640648   \n",
       "3          32,5009858       34,56431305      12,23890039   55,16413558   \n",
       "4         49,01467171       39,63988675       4,58714604    33,5075155   \n",
       "..                ...               ...              ...           ...   \n",
       "307  853,666049370001  708,855122160001      14,38612963  223,80287164   \n",
       "308  897,384029759998  662,752704119999      28,04947007  258,22237166   \n",
       "309      627,06545899      780,99939366      27,05306931  268,62286475   \n",
       "310  398,152707740001      289,72314953      27,65835332  196,35924403   \n",
       "311      335,18621487      382,64761466      24,52821208  759,18826411   \n",
       "\n",
       "      mato_grosso mato_grosso_do_sul  \n",
       "0     16,27915326        10,26813495  \n",
       "1     17,33613937         2,98495465  \n",
       "2     40,58887985        15,20808378  \n",
       "3     27,22989044          9,6569057  \n",
       "4     14,40645992         6,61725569  \n",
       "..            ...                ...  \n",
       "307   497,6462012       262,26895682  \n",
       "308  699,85520215       176,87090708  \n",
       "309  665,78916594       188,24342723  \n",
       "310  395,17828572       106,40769098  \n",
       "311  750,70243929       354,96795443  \n",
       "\n",
       "[312 rows x 29 columns]"
      ]
     },
     "execution_count": 2,
     "metadata": {},
     "output_type": "execute_result"
    }
   ],
   "source": [
    "# LINK ANTIGO\n",
    "# pd.read_csv('https://dadosabertos.bndes.gov.br/dataset/bce5a865-e766-4a7a-b537-9499c81275b6/resource/bbe8210d-e3b1-4db9-94c5-66cfc8ee2a0f/download/aprovacoes-por-uf.csv', sep=';')\n",
    "\n",
    "# LINK ATUAL\n",
    "pd.read_csv('https://dadosabertos.bndes.gov.br/dataset/bce5a865-e766-4a7a-b537-9499c81275b6/resource/08f7a11c-48e0-4d3e-9a75-d95641657ebf/download/aprovacoes-por-uf-aprovacoes.csv', sep=';')"
   ]
  },
  {
   "cell_type": "code",
   "execution_count": 3,
   "metadata": {
    "ExecuteTime": {
     "end_time": "2021-05-22T14:21:40.566828Z",
     "start_time": "2021-05-22T14:21:40.090878Z"
    }
   },
   "outputs": [
    {
     "data": {
      "text/html": [
       "<div>\n",
       "<style scoped>\n",
       "    .dataframe tbody tr th:only-of-type {\n",
       "        vertical-align: middle;\n",
       "    }\n",
       "\n",
       "    .dataframe tbody tr th {\n",
       "        vertical-align: top;\n",
       "    }\n",
       "\n",
       "    .dataframe thead th {\n",
       "        text-align: right;\n",
       "    }\n",
       "</style>\n",
       "<table border=\"1\" class=\"dataframe\">\n",
       "  <thead>\n",
       "    <tr style=\"text-align: right;\">\n",
       "      <th></th>\n",
       "      <th>ano</th>\n",
       "      <th>mes</th>\n",
       "      <th>acre</th>\n",
       "      <th>amapa</th>\n",
       "      <th>amazonas</th>\n",
       "      <th>para</th>\n",
       "      <th>rondonia</th>\n",
       "      <th>roraima</th>\n",
       "      <th>tocantins</th>\n",
       "      <th>alagoas</th>\n",
       "      <th>...</th>\n",
       "      <th>minas_gerais</th>\n",
       "      <th>rio_de_janeiro</th>\n",
       "      <th>sao_paulo</th>\n",
       "      <th>parana</th>\n",
       "      <th>rio_grande_do_sul</th>\n",
       "      <th>santa_catarina</th>\n",
       "      <th>distrito_federal</th>\n",
       "      <th>goias</th>\n",
       "      <th>mato_grosso</th>\n",
       "      <th>mato_grosso_do_sul</th>\n",
       "    </tr>\n",
       "  </thead>\n",
       "  <tbody>\n",
       "    <tr>\n",
       "      <th>0</th>\n",
       "      <td>1995</td>\n",
       "      <td>1</td>\n",
       "      <td>0.418697</td>\n",
       "      <td>0.0</td>\n",
       "      <td>2.234138</td>\n",
       "      <td>1.846492</td>\n",
       "      <td>1.044738</td>\n",
       "      <td>0.000000</td>\n",
       "      <td>0.435302</td>\n",
       "      <td>3.903460</td>\n",
       "      <td>...</td>\n",
       "      <td>24.211613</td>\n",
       "      <td>121.274922</td>\n",
       "      <td>160.955111</td>\n",
       "      <td>44.503625</td>\n",
       "      <td>37.595270</td>\n",
       "      <td>35.303492</td>\n",
       "      <td>1.943748</td>\n",
       "      <td>8.347732</td>\n",
       "      <td>16.279153</td>\n",
       "      <td>10.268135</td>\n",
       "    </tr>\n",
       "    <tr>\n",
       "      <th>1</th>\n",
       "      <td>1995</td>\n",
       "      <td>2</td>\n",
       "      <td>0.045784</td>\n",
       "      <td>0.0</td>\n",
       "      <td>2.745178</td>\n",
       "      <td>42.480852</td>\n",
       "      <td>0.369604</td>\n",
       "      <td>0.000000</td>\n",
       "      <td>0.642143</td>\n",
       "      <td>2.293343</td>\n",
       "      <td>...</td>\n",
       "      <td>26.779819</td>\n",
       "      <td>43.421296</td>\n",
       "      <td>150.042871</td>\n",
       "      <td>30.004889</td>\n",
       "      <td>127.624211</td>\n",
       "      <td>25.617710</td>\n",
       "      <td>6.737180</td>\n",
       "      <td>4.228323</td>\n",
       "      <td>17.336139</td>\n",
       "      <td>2.984955</td>\n",
       "    </tr>\n",
       "    <tr>\n",
       "      <th>2</th>\n",
       "      <td>1995</td>\n",
       "      <td>3</td>\n",
       "      <td>0.587931</td>\n",
       "      <td>0.0</td>\n",
       "      <td>4.250384</td>\n",
       "      <td>7.072017</td>\n",
       "      <td>1.884923</td>\n",
       "      <td>0.079669</td>\n",
       "      <td>2.903664</td>\n",
       "      <td>22.916848</td>\n",
       "      <td>...</td>\n",
       "      <td>40.389299</td>\n",
       "      <td>79.260814</td>\n",
       "      <td>195.143627</td>\n",
       "      <td>67.249840</td>\n",
       "      <td>79.493329</td>\n",
       "      <td>61.316904</td>\n",
       "      <td>4.322117</td>\n",
       "      <td>17.286406</td>\n",
       "      <td>40.588880</td>\n",
       "      <td>15.208084</td>\n",
       "    </tr>\n",
       "    <tr>\n",
       "      <th>3</th>\n",
       "      <td>1995</td>\n",
       "      <td>4</td>\n",
       "      <td>0.893061</td>\n",
       "      <td>0.0</td>\n",
       "      <td>3.385635</td>\n",
       "      <td>2.735549</td>\n",
       "      <td>1.964266</td>\n",
       "      <td>0.000000</td>\n",
       "      <td>0.455802</td>\n",
       "      <td>3.145561</td>\n",
       "      <td>...</td>\n",
       "      <td>26.271117</td>\n",
       "      <td>27.595696</td>\n",
       "      <td>125.440473</td>\n",
       "      <td>82.144081</td>\n",
       "      <td>32.500986</td>\n",
       "      <td>34.564313</td>\n",
       "      <td>12.238900</td>\n",
       "      <td>55.164136</td>\n",
       "      <td>27.229890</td>\n",
       "      <td>9.656906</td>\n",
       "    </tr>\n",
       "    <tr>\n",
       "      <th>4</th>\n",
       "      <td>1995</td>\n",
       "      <td>5</td>\n",
       "      <td>0.000000</td>\n",
       "      <td>0.0</td>\n",
       "      <td>7.201345</td>\n",
       "      <td>2.859487</td>\n",
       "      <td>1.758269</td>\n",
       "      <td>0.276053</td>\n",
       "      <td>1.270201</td>\n",
       "      <td>1.558083</td>\n",
       "      <td>...</td>\n",
       "      <td>35.180446</td>\n",
       "      <td>63.302042</td>\n",
       "      <td>222.393671</td>\n",
       "      <td>81.679989</td>\n",
       "      <td>49.014672</td>\n",
       "      <td>39.639887</td>\n",
       "      <td>4.587146</td>\n",
       "      <td>33.507516</td>\n",
       "      <td>14.406460</td>\n",
       "      <td>6.617256</td>\n",
       "    </tr>\n",
       "  </tbody>\n",
       "</table>\n",
       "<p>5 rows × 29 columns</p>\n",
       "</div>"
      ],
      "text/plain": [
       "    ano  mes      acre  amapa  amazonas       para  rondonia   roraima  \\\n",
       "0  1995    1  0.418697    0.0  2.234138   1.846492  1.044738  0.000000   \n",
       "1  1995    2  0.045784    0.0  2.745178  42.480852  0.369604  0.000000   \n",
       "2  1995    3  0.587931    0.0  4.250384   7.072017  1.884923  0.079669   \n",
       "3  1995    4  0.893061    0.0  3.385635   2.735549  1.964266  0.000000   \n",
       "4  1995    5  0.000000    0.0  7.201345   2.859487  1.758269  0.276053   \n",
       "\n",
       "   tocantins    alagoas  ...  minas_gerais  rio_de_janeiro   sao_paulo  \\\n",
       "0   0.435302   3.903460  ...     24.211613      121.274922  160.955111   \n",
       "1   0.642143   2.293343  ...     26.779819       43.421296  150.042871   \n",
       "2   2.903664  22.916848  ...     40.389299       79.260814  195.143627   \n",
       "3   0.455802   3.145561  ...     26.271117       27.595696  125.440473   \n",
       "4   1.270201   1.558083  ...     35.180446       63.302042  222.393671   \n",
       "\n",
       "      parana  rio_grande_do_sul  santa_catarina  distrito_federal      goias  \\\n",
       "0  44.503625          37.595270       35.303492          1.943748   8.347732   \n",
       "1  30.004889         127.624211       25.617710          6.737180   4.228323   \n",
       "2  67.249840          79.493329       61.316904          4.322117  17.286406   \n",
       "3  82.144081          32.500986       34.564313         12.238900  55.164136   \n",
       "4  81.679989          49.014672       39.639887          4.587146  33.507516   \n",
       "\n",
       "   mato_grosso  mato_grosso_do_sul  \n",
       "0    16.279153           10.268135  \n",
       "1    17.336139            2.984955  \n",
       "2    40.588880           15.208084  \n",
       "3    27.229890            9.656906  \n",
       "4    14.406460            6.617256  \n",
       "\n",
       "[5 rows x 29 columns]"
      ]
     },
     "execution_count": 3,
     "metadata": {},
     "output_type": "execute_result"
    }
   ],
   "source": [
    "# LINK ANTIGO\n",
    "# aprovacoes = pd.read_csv('https://dadosabertos.bndes.gov.br/dataset/bce5a865-e766-4a7a-b537-9499c81275b6/resource/bbe8210d-e3b1-4db9-94c5-66cfc8ee2a0f/download/aprovacoes-por-uf.csv', sep=';', decimal=',')\n",
    "\n",
    "# LINK ATUAL\n",
    "aprovacoes = pd.read_csv('https://dadosabertos.bndes.gov.br/dataset/bce5a865-e766-4a7a-b537-9499c81275b6/resource/08f7a11c-48e0-4d3e-9a75-d95641657ebf/download/aprovacoes-por-uf-aprovacoes.csv', sep=';', decimal=',')\n",
    "aprovacoes.head(5)"
   ]
  },
  {
   "cell_type": "markdown",
   "metadata": {},
   "source": [
    "### Identificando e contando valores únicos"
   ]
  },
  {
   "cell_type": "code",
   "execution_count": null,
   "metadata": {
    "ExecuteTime": {
     "end_time": "2021-05-22T14:21:40.676929Z",
     "start_time": "2021-05-22T14:21:40.661943Z"
    }
   },
   "outputs": [],
   "source": [
    "aprovacoes['ano'].unique()"
   ]
  },
  {
   "cell_type": "code",
   "execution_count": null,
   "metadata": {
    "ExecuteTime": {
     "end_time": "2021-05-22T14:21:41.004846Z",
     "start_time": "2021-05-22T14:21:40.993832Z"
    }
   },
   "outputs": [],
   "source": [
    "aprovacoes['ano'].nunique()"
   ]
  },
  {
   "cell_type": "code",
   "execution_count": null,
   "metadata": {
    "ExecuteTime": {
     "end_time": "2021-05-22T14:21:41.672494Z",
     "start_time": "2021-05-22T14:21:41.665513Z"
    }
   },
   "outputs": [],
   "source": [
    "aprovacoes['mes'].unique()"
   ]
  },
  {
   "cell_type": "code",
   "execution_count": null,
   "metadata": {
    "ExecuteTime": {
     "end_time": "2021-05-22T14:21:41.829860Z",
     "start_time": "2021-05-22T14:21:41.816853Z"
    }
   },
   "outputs": [],
   "source": [
    "aprovacoes['mes'].nunique()"
   ]
  },
  {
   "cell_type": "code",
   "execution_count": null,
   "metadata": {
    "ExecuteTime": {
     "end_time": "2021-05-22T14:21:42.519491Z",
     "start_time": "2021-05-22T14:21:42.505506Z"
    }
   },
   "outputs": [],
   "source": [
    "aprovacoes.columns.unique()"
   ]
  },
  {
   "cell_type": "code",
   "execution_count": null,
   "metadata": {
    "ExecuteTime": {
     "end_time": "2021-05-22T14:21:43.144896Z",
     "start_time": "2021-05-22T14:21:43.128895Z"
    }
   },
   "outputs": [],
   "source": [
    "aprovacoes.loc[:,'acre':].columns.unique()"
   ]
  },
  {
   "cell_type": "code",
   "execution_count": null,
   "metadata": {
    "ExecuteTime": {
     "end_time": "2021-05-22T14:21:45.681799Z",
     "start_time": "2021-05-22T14:21:45.664809Z"
    },
    "scrolled": true
   },
   "outputs": [],
   "source": [
    "aprovacoes.loc[:,'acre':].columns.nunique()"
   ]
  },
  {
   "cell_type": "code",
   "execution_count": null,
   "metadata": {},
   "outputs": [],
   "source": []
  },
  {
   "cell_type": "markdown",
   "metadata": {},
   "source": [
    "### Gerando o total de aprovações"
   ]
  },
  {
   "cell_type": "code",
   "execution_count": null,
   "metadata": {
    "ExecuteTime": {
     "end_time": "2021-05-22T13:53:35.628457Z",
     "start_time": "2021-05-22T13:53:35.615465Z"
    }
   },
   "outputs": [],
   "source": [
    "aprovacoes.sum()"
   ]
  },
  {
   "cell_type": "code",
   "execution_count": null,
   "metadata": {
    "ExecuteTime": {
     "end_time": "2021-05-22T13:53:38.029476Z",
     "start_time": "2021-05-22T13:53:38.013470Z"
    }
   },
   "outputs": [],
   "source": [
    "aprovacoes.sum(axis=0)"
   ]
  },
  {
   "cell_type": "code",
   "execution_count": null,
   "metadata": {
    "ExecuteTime": {
     "end_time": "2021-05-22T13:54:21.588668Z",
     "start_time": "2021-05-22T13:54:21.582671Z"
    }
   },
   "outputs": [],
   "source": [
    "aprovacoes.sum(axis=1)"
   ]
  },
  {
   "cell_type": "code",
   "execution_count": null,
   "metadata": {
    "ExecuteTime": {
     "end_time": "2021-05-22T14:01:50.208173Z",
     "start_time": "2021-05-22T14:01:50.174177Z"
    },
    "scrolled": true
   },
   "outputs": [],
   "source": [
    "aprovacoes['total']  = aprovacoes.loc[:,'acre':].sum(axis=1)\n",
    "aprovacoes"
   ]
  },
  {
   "cell_type": "code",
   "execution_count": null,
   "metadata": {
    "ExecuteTime": {
     "end_time": "2021-05-22T14:02:01.279256Z",
     "start_time": "2021-05-22T14:02:01.132337Z"
    }
   },
   "outputs": [],
   "source": [
    "aprovacoes['total'].plot()"
   ]
  },
  {
   "cell_type": "code",
   "execution_count": null,
   "metadata": {
    "ExecuteTime": {
     "end_time": "2021-05-22T13:58:01.907541Z",
     "start_time": "2021-05-22T13:58:01.862482Z"
    }
   },
   "outputs": [],
   "source": [
    "aprovacoes.loc[:]"
   ]
  },
  {
   "cell_type": "code",
   "execution_count": null,
   "metadata": {
    "ExecuteTime": {
     "end_time": "2021-05-22T13:57:49.918211Z",
     "start_time": "2021-05-22T13:57:49.878222Z"
    }
   },
   "outputs": [],
   "source": [
    "aprovacoes.loc[:,'acre':]"
   ]
  },
  {
   "cell_type": "code",
   "execution_count": null,
   "metadata": {
    "ExecuteTime": {
     "end_time": "2021-05-22T13:58:59.363387Z",
     "start_time": "2021-05-22T13:58:59.053546Z"
    }
   },
   "outputs": [],
   "source": [
    "aprovacoes.loc[:,'acre':].sum().plot(kind='bar')"
   ]
  },
  {
   "cell_type": "code",
   "execution_count": null,
   "metadata": {
    "ExecuteTime": {
     "end_time": "2021-05-22T13:59:27.475613Z",
     "start_time": "2021-05-22T13:59:27.165792Z"
    }
   },
   "outputs": [],
   "source": [
    "aprovacoes.loc[:,'acre':'mato_grosso_do_sul'].sum().plot(kind='bar')"
   ]
  },
  {
   "cell_type": "code",
   "execution_count": null,
   "metadata": {
    "ExecuteTime": {
     "end_time": "2021-05-22T14:00:12.365858Z",
     "start_time": "2021-05-22T14:00:12.029050Z"
    }
   },
   "outputs": [],
   "source": [
    "aprovacoes.loc[:,'acre':'mato_grosso_do_sul'].sum().plot(kind='bar', figsize=(15,5))"
   ]
  }
 ],
 "metadata": {
  "kernelspec": {
   "display_name": "Python 3 (ipykernel)",
   "language": "python",
   "name": "python3"
  },
  "language_info": {
   "codemirror_mode": {
    "name": "ipython",
    "version": 3
   },
   "file_extension": ".py",
   "mimetype": "text/x-python",
   "name": "python",
   "nbconvert_exporter": "python",
   "pygments_lexer": "ipython3",
   "version": "3.11.5"
  },
  "varInspector": {
   "cols": {
    "lenName": 16,
    "lenType": 16,
    "lenVar": 40
   },
   "kernels_config": {
    "python": {
     "delete_cmd_postfix": "",
     "delete_cmd_prefix": "del ",
     "library": "var_list.py",
     "varRefreshCmd": "print(var_dic_list())"
    },
    "r": {
     "delete_cmd_postfix": ") ",
     "delete_cmd_prefix": "rm(",
     "library": "var_list.r",
     "varRefreshCmd": "cat(var_dic_list()) "
    }
   },
   "types_to_exclude": [
    "module",
    "function",
    "builtin_function_or_method",
    "instance",
    "_Feature"
   ],
   "window_display": false
  }
 },
 "nbformat": 4,
 "nbformat_minor": 4
}
